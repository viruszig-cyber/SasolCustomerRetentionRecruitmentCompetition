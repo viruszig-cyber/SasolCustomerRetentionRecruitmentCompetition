{
  "cells": [
    {
      "cell_type": "markdown",
      "metadata": {
        "id": "view-in-github",
        "colab_type": "text"
      },
      "source": [
        "<a href=\"https://colab.research.google.com/github/viruszig-cyber/SasolCustomerRetentionRecruitmentCompetition/blob/main/sasol.ipynb\" target=\"_parent\"><img src=\"https://colab.research.google.com/assets/colab-badge.svg\" alt=\"Open In Colab\"/></a>"
      ]
    },
    {
      "cell_type": "code",
      "execution_count": 126,
      "metadata": {
        "id": "EbrdopzJY1yw"
      },
      "outputs": [],
      "source": [
        "import numpy as np\n",
        "import pandas as pd\n",
        "\n",
        "from sklearn import svm\n",
        "\n",
        "import seaborn as sns\n",
        "import matplotlib.pyplot as plt\n",
        "\n",
        "from sklearn.model_selection import StratifiedKFold\n",
        "from sklearn.metrics import accuracy_score, precision_score, recall_score, confusion_matrix, classification_report\n",
        "\n",
        "from sklearn.model_selection import train_test_split\n",
        "\n",
        "from sklearn.preprocessing import OneHotEncoder\n",
        "\n",
        "import pickle\n",
        "\n",
        "from sklearn.decomposition import PCA\n",
        "\n",
        "from sklearn.linear_model import LogisticRegression\n",
        "\n",
        "from sklearn.naive_bayes import GaussianNB\n",
        "from sklearn.naive_bayes import MultinomialNB\n",
        "\n",
        "from sklearn.neighbors import KNeighborsClassifier\n",
        "\n",
        "from sklearn.tree import DecisionTreeClassifier\n",
        "\n",
        "from sklearn.ensemble import RandomForestClassifier\n",
        "\n",
        "import xgboost as xgb"
      ]
    },
    {
      "cell_type": "markdown",
      "metadata": {
        "id": "DzlyyCy9Y1zD"
      },
      "source": [
        "data=pd.read_csv('Train.csv')\n",
        "\n",
        "data = pd.concat(\n",
        "    [\n",
        "        pd.read_csv('Train.csv'),\n",
        "        pd.read_csv('Test.csv')\n",
        "    ],\n",
        "    axis=0)\n",
        "data.reset_index(drop=True, inplace=True)\n",
        "data"
      ]
    },
    {
      "cell_type": "code",
      "execution_count": 164,
      "metadata": {
        "colab": {
          "base_uri": "https://localhost:8080/",
          "height": 687
        },
        "id": "3SqGaUjFY1zc",
        "outputId": "294bb585-d64c-4765-cc05-a85eff3a7c38"
      },
      "outputs": [
        {
          "output_type": "execute_result",
          "data": {
            "text/plain": [
              "                     ID     region        tenure   Amount  refill_frequency  \\\n",
              "0       ID_1I1XQIKT5A9L   Droidika  K > 24 month  2008.55              16.0   \n",
              "1       ID_KS81OHJGUETH   Droidika  K > 24 month   256.41               2.0   \n",
              "2       ID_A84OW2TIMWBV   Nebulith  K > 24 month  1581.20               8.0   \n",
              "3       ID_BM9GONF7TJCO  Mandalore  K > 24 month  1431.62               8.0   \n",
              "4       ID_5C7R4UZQFWF3  Mandalore  K > 24 month  2008.55              18.0   \n",
              "...                 ...        ...           ...      ...               ...   \n",
              "328011  ID_D86YU3N6W4OE  Mandalore  K > 24 month  3418.80              14.0   \n",
              "328012  ID_V5X0KZYFR1Z3   Luminous  K > 24 month   641.03               2.0   \n",
              "328013  ID_K6E31P7IGBLC     Astral  K > 24 month      NaN               NaN   \n",
              "328014  ID_4FBNTUM07OQJ  Stellaris  K > 24 month  6581.20               5.0   \n",
              "328015  ID_VYXN90IN5RLD  Celestial  K > 24 month   427.35               2.0   \n",
              "\n",
              "        revenue  arpu_segment  frequency  data_volume  on_net  Procuct_1  \\\n",
              "0       2010.26        670.09       17.0         10.0   247.0       17.0   \n",
              "1        250.43         83.33        3.0          NaN    15.0      100.0   \n",
              "2       1578.21        526.07        8.0        436.0    47.0      113.0   \n",
              "3       1432.05        477.35       10.0       3262.0    22.0       25.0   \n",
              "4       1793.59        597.86       24.0          NaN    70.0       23.0   \n",
              "...         ...           ...        ...          ...     ...        ...   \n",
              "328011  3964.96       1321.79       25.0          NaN    17.0       77.0   \n",
              "328012   508.97        169.66        2.0        870.0     1.0        NaN   \n",
              "328013      NaN           NaN        NaN          NaN     NaN        NaN   \n",
              "328014  6579.91       2193.16       11.0       3500.0   477.0       71.0   \n",
              "328015   427.35        142.31        2.0          NaN    23.0       19.0   \n",
              "\n",
              "        Procuct_2  zone1  zone2 mrg  regularity  \\\n",
              "0            70.0    NaN    NaN  NO         4.0   \n",
              "1            84.0    NaN    NaN  NO         7.0   \n",
              "2             5.0    NaN    NaN  NO        46.0   \n",
              "3             NaN    0.0    NaN  NO        57.0   \n",
              "4             2.0    NaN    NaN  NO        44.0   \n",
              "...           ...    ...    ...  ..         ...   \n",
              "328011        NaN    0.0    0.0  NO        34.0   \n",
              "328012        NaN    NaN    NaN  NO        62.0   \n",
              "328013        NaN    NaN    NaN  NO        46.0   \n",
              "328014       36.0  117.0    NaN  NO        62.0   \n",
              "328015        1.0    NaN    NaN  NO        26.0   \n",
              "\n",
              "                                       top_pack  freq_top_pack  \n",
              "0                On net 200F=Unlimited _call24H           11.0  \n",
              "1                On net 200F=Unlimited _call24H            1.0  \n",
              "2                                   Jokko_Daily            6.0  \n",
              "3                On net 200F=Unlimited _call24H            3.0  \n",
              "4                            Twter_U2opia_Daily            3.0  \n",
              "...                                         ...            ...  \n",
              "328011                    All-net 500F=2000F;5d           10.0  \n",
              "328012                     Data: 100 F=40MB,24H            1.0  \n",
              "328013                                      NaN            NaN  \n",
              "328014  MIXT: 200mnoff net _unl on net _5Go;30d            3.0  \n",
              "328015                    All-net 500F=2000F;5d            1.0  \n",
              "\n",
              "[328016 rows x 18 columns]"
            ],
            "text/html": [
              "\n",
              "  <div id=\"df-cf183fef-42e1-41b3-8f41-3ea8a65a596b\" class=\"colab-df-container\">\n",
              "    <div>\n",
              "<style scoped>\n",
              "    .dataframe tbody tr th:only-of-type {\n",
              "        vertical-align: middle;\n",
              "    }\n",
              "\n",
              "    .dataframe tbody tr th {\n",
              "        vertical-align: top;\n",
              "    }\n",
              "\n",
              "    .dataframe thead th {\n",
              "        text-align: right;\n",
              "    }\n",
              "</style>\n",
              "<table border=\"1\" class=\"dataframe\">\n",
              "  <thead>\n",
              "    <tr style=\"text-align: right;\">\n",
              "      <th></th>\n",
              "      <th>ID</th>\n",
              "      <th>region</th>\n",
              "      <th>tenure</th>\n",
              "      <th>Amount</th>\n",
              "      <th>refill_frequency</th>\n",
              "      <th>revenue</th>\n",
              "      <th>arpu_segment</th>\n",
              "      <th>frequency</th>\n",
              "      <th>data_volume</th>\n",
              "      <th>on_net</th>\n",
              "      <th>Procuct_1</th>\n",
              "      <th>Procuct_2</th>\n",
              "      <th>zone1</th>\n",
              "      <th>zone2</th>\n",
              "      <th>mrg</th>\n",
              "      <th>regularity</th>\n",
              "      <th>top_pack</th>\n",
              "      <th>freq_top_pack</th>\n",
              "    </tr>\n",
              "  </thead>\n",
              "  <tbody>\n",
              "    <tr>\n",
              "      <th>0</th>\n",
              "      <td>ID_1I1XQIKT5A9L</td>\n",
              "      <td>Droidika</td>\n",
              "      <td>K &gt; 24 month</td>\n",
              "      <td>2008.55</td>\n",
              "      <td>16.0</td>\n",
              "      <td>2010.26</td>\n",
              "      <td>670.09</td>\n",
              "      <td>17.0</td>\n",
              "      <td>10.0</td>\n",
              "      <td>247.0</td>\n",
              "      <td>17.0</td>\n",
              "      <td>70.0</td>\n",
              "      <td>NaN</td>\n",
              "      <td>NaN</td>\n",
              "      <td>NO</td>\n",
              "      <td>4.0</td>\n",
              "      <td>On net 200F=Unlimited _call24H</td>\n",
              "      <td>11.0</td>\n",
              "    </tr>\n",
              "    <tr>\n",
              "      <th>1</th>\n",
              "      <td>ID_KS81OHJGUETH</td>\n",
              "      <td>Droidika</td>\n",
              "      <td>K &gt; 24 month</td>\n",
              "      <td>256.41</td>\n",
              "      <td>2.0</td>\n",
              "      <td>250.43</td>\n",
              "      <td>83.33</td>\n",
              "      <td>3.0</td>\n",
              "      <td>NaN</td>\n",
              "      <td>15.0</td>\n",
              "      <td>100.0</td>\n",
              "      <td>84.0</td>\n",
              "      <td>NaN</td>\n",
              "      <td>NaN</td>\n",
              "      <td>NO</td>\n",
              "      <td>7.0</td>\n",
              "      <td>On net 200F=Unlimited _call24H</td>\n",
              "      <td>1.0</td>\n",
              "    </tr>\n",
              "    <tr>\n",
              "      <th>2</th>\n",
              "      <td>ID_A84OW2TIMWBV</td>\n",
              "      <td>Nebulith</td>\n",
              "      <td>K &gt; 24 month</td>\n",
              "      <td>1581.20</td>\n",
              "      <td>8.0</td>\n",
              "      <td>1578.21</td>\n",
              "      <td>526.07</td>\n",
              "      <td>8.0</td>\n",
              "      <td>436.0</td>\n",
              "      <td>47.0</td>\n",
              "      <td>113.0</td>\n",
              "      <td>5.0</td>\n",
              "      <td>NaN</td>\n",
              "      <td>NaN</td>\n",
              "      <td>NO</td>\n",
              "      <td>46.0</td>\n",
              "      <td>Jokko_Daily</td>\n",
              "      <td>6.0</td>\n",
              "    </tr>\n",
              "    <tr>\n",
              "      <th>3</th>\n",
              "      <td>ID_BM9GONF7TJCO</td>\n",
              "      <td>Mandalore</td>\n",
              "      <td>K &gt; 24 month</td>\n",
              "      <td>1431.62</td>\n",
              "      <td>8.0</td>\n",
              "      <td>1432.05</td>\n",
              "      <td>477.35</td>\n",
              "      <td>10.0</td>\n",
              "      <td>3262.0</td>\n",
              "      <td>22.0</td>\n",
              "      <td>25.0</td>\n",
              "      <td>NaN</td>\n",
              "      <td>0.0</td>\n",
              "      <td>NaN</td>\n",
              "      <td>NO</td>\n",
              "      <td>57.0</td>\n",
              "      <td>On net 200F=Unlimited _call24H</td>\n",
              "      <td>3.0</td>\n",
              "    </tr>\n",
              "    <tr>\n",
              "      <th>4</th>\n",
              "      <td>ID_5C7R4UZQFWF3</td>\n",
              "      <td>Mandalore</td>\n",
              "      <td>K &gt; 24 month</td>\n",
              "      <td>2008.55</td>\n",
              "      <td>18.0</td>\n",
              "      <td>1793.59</td>\n",
              "      <td>597.86</td>\n",
              "      <td>24.0</td>\n",
              "      <td>NaN</td>\n",
              "      <td>70.0</td>\n",
              "      <td>23.0</td>\n",
              "      <td>2.0</td>\n",
              "      <td>NaN</td>\n",
              "      <td>NaN</td>\n",
              "      <td>NO</td>\n",
              "      <td>44.0</td>\n",
              "      <td>Twter_U2opia_Daily</td>\n",
              "      <td>3.0</td>\n",
              "    </tr>\n",
              "    <tr>\n",
              "      <th>...</th>\n",
              "      <td>...</td>\n",
              "      <td>...</td>\n",
              "      <td>...</td>\n",
              "      <td>...</td>\n",
              "      <td>...</td>\n",
              "      <td>...</td>\n",
              "      <td>...</td>\n",
              "      <td>...</td>\n",
              "      <td>...</td>\n",
              "      <td>...</td>\n",
              "      <td>...</td>\n",
              "      <td>...</td>\n",
              "      <td>...</td>\n",
              "      <td>...</td>\n",
              "      <td>...</td>\n",
              "      <td>...</td>\n",
              "      <td>...</td>\n",
              "      <td>...</td>\n",
              "    </tr>\n",
              "    <tr>\n",
              "      <th>328011</th>\n",
              "      <td>ID_D86YU3N6W4OE</td>\n",
              "      <td>Mandalore</td>\n",
              "      <td>K &gt; 24 month</td>\n",
              "      <td>3418.80</td>\n",
              "      <td>14.0</td>\n",
              "      <td>3964.96</td>\n",
              "      <td>1321.79</td>\n",
              "      <td>25.0</td>\n",
              "      <td>NaN</td>\n",
              "      <td>17.0</td>\n",
              "      <td>77.0</td>\n",
              "      <td>NaN</td>\n",
              "      <td>0.0</td>\n",
              "      <td>0.0</td>\n",
              "      <td>NO</td>\n",
              "      <td>34.0</td>\n",
              "      <td>All-net 500F=2000F;5d</td>\n",
              "      <td>10.0</td>\n",
              "    </tr>\n",
              "    <tr>\n",
              "      <th>328012</th>\n",
              "      <td>ID_V5X0KZYFR1Z3</td>\n",
              "      <td>Luminous</td>\n",
              "      <td>K &gt; 24 month</td>\n",
              "      <td>641.03</td>\n",
              "      <td>2.0</td>\n",
              "      <td>508.97</td>\n",
              "      <td>169.66</td>\n",
              "      <td>2.0</td>\n",
              "      <td>870.0</td>\n",
              "      <td>1.0</td>\n",
              "      <td>NaN</td>\n",
              "      <td>NaN</td>\n",
              "      <td>NaN</td>\n",
              "      <td>NaN</td>\n",
              "      <td>NO</td>\n",
              "      <td>62.0</td>\n",
              "      <td>Data: 100 F=40MB,24H</td>\n",
              "      <td>1.0</td>\n",
              "    </tr>\n",
              "    <tr>\n",
              "      <th>328013</th>\n",
              "      <td>ID_K6E31P7IGBLC</td>\n",
              "      <td>Astral</td>\n",
              "      <td>K &gt; 24 month</td>\n",
              "      <td>NaN</td>\n",
              "      <td>NaN</td>\n",
              "      <td>NaN</td>\n",
              "      <td>NaN</td>\n",
              "      <td>NaN</td>\n",
              "      <td>NaN</td>\n",
              "      <td>NaN</td>\n",
              "      <td>NaN</td>\n",
              "      <td>NaN</td>\n",
              "      <td>NaN</td>\n",
              "      <td>NaN</td>\n",
              "      <td>NO</td>\n",
              "      <td>46.0</td>\n",
              "      <td>NaN</td>\n",
              "      <td>NaN</td>\n",
              "    </tr>\n",
              "    <tr>\n",
              "      <th>328014</th>\n",
              "      <td>ID_4FBNTUM07OQJ</td>\n",
              "      <td>Stellaris</td>\n",
              "      <td>K &gt; 24 month</td>\n",
              "      <td>6581.20</td>\n",
              "      <td>5.0</td>\n",
              "      <td>6579.91</td>\n",
              "      <td>2193.16</td>\n",
              "      <td>11.0</td>\n",
              "      <td>3500.0</td>\n",
              "      <td>477.0</td>\n",
              "      <td>71.0</td>\n",
              "      <td>36.0</td>\n",
              "      <td>117.0</td>\n",
              "      <td>NaN</td>\n",
              "      <td>NO</td>\n",
              "      <td>62.0</td>\n",
              "      <td>MIXT: 200mnoff net _unl on net _5Go;30d</td>\n",
              "      <td>3.0</td>\n",
              "    </tr>\n",
              "    <tr>\n",
              "      <th>328015</th>\n",
              "      <td>ID_VYXN90IN5RLD</td>\n",
              "      <td>Celestial</td>\n",
              "      <td>K &gt; 24 month</td>\n",
              "      <td>427.35</td>\n",
              "      <td>2.0</td>\n",
              "      <td>427.35</td>\n",
              "      <td>142.31</td>\n",
              "      <td>2.0</td>\n",
              "      <td>NaN</td>\n",
              "      <td>23.0</td>\n",
              "      <td>19.0</td>\n",
              "      <td>1.0</td>\n",
              "      <td>NaN</td>\n",
              "      <td>NaN</td>\n",
              "      <td>NO</td>\n",
              "      <td>26.0</td>\n",
              "      <td>All-net 500F=2000F;5d</td>\n",
              "      <td>1.0</td>\n",
              "    </tr>\n",
              "  </tbody>\n",
              "</table>\n",
              "<p>328016 rows × 18 columns</p>\n",
              "</div>\n",
              "    <div class=\"colab-df-buttons\">\n",
              "\n",
              "  <div class=\"colab-df-container\">\n",
              "    <button class=\"colab-df-convert\" onclick=\"convertToInteractive('df-cf183fef-42e1-41b3-8f41-3ea8a65a596b')\"\n",
              "            title=\"Convert this dataframe to an interactive table.\"\n",
              "            style=\"display:none;\">\n",
              "\n",
              "  <svg xmlns=\"http://www.w3.org/2000/svg\" height=\"24px\" viewBox=\"0 -960 960 960\">\n",
              "    <path d=\"M120-120v-720h720v720H120Zm60-500h600v-160H180v160Zm220 220h160v-160H400v160Zm0 220h160v-160H400v160ZM180-400h160v-160H180v160Zm440 0h160v-160H620v160ZM180-180h160v-160H180v160Zm440 0h160v-160H620v160Z\"/>\n",
              "  </svg>\n",
              "    </button>\n",
              "\n",
              "  <style>\n",
              "    .colab-df-container {\n",
              "      display:flex;\n",
              "      gap: 12px;\n",
              "    }\n",
              "\n",
              "    .colab-df-convert {\n",
              "      background-color: #E8F0FE;\n",
              "      border: none;\n",
              "      border-radius: 50%;\n",
              "      cursor: pointer;\n",
              "      display: none;\n",
              "      fill: #1967D2;\n",
              "      height: 32px;\n",
              "      padding: 0 0 0 0;\n",
              "      width: 32px;\n",
              "    }\n",
              "\n",
              "    .colab-df-convert:hover {\n",
              "      background-color: #E2EBFA;\n",
              "      box-shadow: 0px 1px 2px rgba(60, 64, 67, 0.3), 0px 1px 3px 1px rgba(60, 64, 67, 0.15);\n",
              "      fill: #174EA6;\n",
              "    }\n",
              "\n",
              "    .colab-df-buttons div {\n",
              "      margin-bottom: 4px;\n",
              "    }\n",
              "\n",
              "    [theme=dark] .colab-df-convert {\n",
              "      background-color: #3B4455;\n",
              "      fill: #D2E3FC;\n",
              "    }\n",
              "\n",
              "    [theme=dark] .colab-df-convert:hover {\n",
              "      background-color: #434B5C;\n",
              "      box-shadow: 0px 1px 3px 1px rgba(0, 0, 0, 0.15);\n",
              "      filter: drop-shadow(0px 1px 2px rgba(0, 0, 0, 0.3));\n",
              "      fill: #FFFFFF;\n",
              "    }\n",
              "  </style>\n",
              "\n",
              "    <script>\n",
              "      const buttonEl =\n",
              "        document.querySelector('#df-cf183fef-42e1-41b3-8f41-3ea8a65a596b button.colab-df-convert');\n",
              "      buttonEl.style.display =\n",
              "        google.colab.kernel.accessAllowed ? 'block' : 'none';\n",
              "\n",
              "      async function convertToInteractive(key) {\n",
              "        const element = document.querySelector('#df-cf183fef-42e1-41b3-8f41-3ea8a65a596b');\n",
              "        const dataTable =\n",
              "          await google.colab.kernel.invokeFunction('convertToInteractive',\n",
              "                                                    [key], {});\n",
              "        if (!dataTable) return;\n",
              "\n",
              "        const docLinkHtml = 'Like what you see? Visit the ' +\n",
              "          '<a target=\"_blank\" href=https://colab.research.google.com/notebooks/data_table.ipynb>data table notebook</a>'\n",
              "          + ' to learn more about interactive tables.';\n",
              "        element.innerHTML = '';\n",
              "        dataTable['output_type'] = 'display_data';\n",
              "        await google.colab.output.renderOutput(dataTable, element);\n",
              "        const docLink = document.createElement('div');\n",
              "        docLink.innerHTML = docLinkHtml;\n",
              "        element.appendChild(docLink);\n",
              "      }\n",
              "    </script>\n",
              "  </div>\n",
              "\n",
              "\n",
              "<div id=\"df-bb177b94-e1d7-452a-babe-c53fabe9aa6f\">\n",
              "  <button class=\"colab-df-quickchart\" onclick=\"quickchart('df-bb177b94-e1d7-452a-babe-c53fabe9aa6f')\"\n",
              "            title=\"Suggest charts\"\n",
              "            style=\"display:none;\">\n",
              "\n",
              "<svg xmlns=\"http://www.w3.org/2000/svg\" height=\"24px\"viewBox=\"0 0 24 24\"\n",
              "     width=\"24px\">\n",
              "    <g>\n",
              "        <path d=\"M19 3H5c-1.1 0-2 .9-2 2v14c0 1.1.9 2 2 2h14c1.1 0 2-.9 2-2V5c0-1.1-.9-2-2-2zM9 17H7v-7h2v7zm4 0h-2V7h2v10zm4 0h-2v-4h2v4z\"/>\n",
              "    </g>\n",
              "</svg>\n",
              "  </button>\n",
              "\n",
              "<style>\n",
              "  .colab-df-quickchart {\n",
              "      --bg-color: #E8F0FE;\n",
              "      --fill-color: #1967D2;\n",
              "      --hover-bg-color: #E2EBFA;\n",
              "      --hover-fill-color: #174EA6;\n",
              "      --disabled-fill-color: #AAA;\n",
              "      --disabled-bg-color: #DDD;\n",
              "  }\n",
              "\n",
              "  [theme=dark] .colab-df-quickchart {\n",
              "      --bg-color: #3B4455;\n",
              "      --fill-color: #D2E3FC;\n",
              "      --hover-bg-color: #434B5C;\n",
              "      --hover-fill-color: #FFFFFF;\n",
              "      --disabled-bg-color: #3B4455;\n",
              "      --disabled-fill-color: #666;\n",
              "  }\n",
              "\n",
              "  .colab-df-quickchart {\n",
              "    background-color: var(--bg-color);\n",
              "    border: none;\n",
              "    border-radius: 50%;\n",
              "    cursor: pointer;\n",
              "    display: none;\n",
              "    fill: var(--fill-color);\n",
              "    height: 32px;\n",
              "    padding: 0;\n",
              "    width: 32px;\n",
              "  }\n",
              "\n",
              "  .colab-df-quickchart:hover {\n",
              "    background-color: var(--hover-bg-color);\n",
              "    box-shadow: 0 1px 2px rgba(60, 64, 67, 0.3), 0 1px 3px 1px rgba(60, 64, 67, 0.15);\n",
              "    fill: var(--button-hover-fill-color);\n",
              "  }\n",
              "\n",
              "  .colab-df-quickchart-complete:disabled,\n",
              "  .colab-df-quickchart-complete:disabled:hover {\n",
              "    background-color: var(--disabled-bg-color);\n",
              "    fill: var(--disabled-fill-color);\n",
              "    box-shadow: none;\n",
              "  }\n",
              "\n",
              "  .colab-df-spinner {\n",
              "    border: 2px solid var(--fill-color);\n",
              "    border-color: transparent;\n",
              "    border-bottom-color: var(--fill-color);\n",
              "    animation:\n",
              "      spin 1s steps(1) infinite;\n",
              "  }\n",
              "\n",
              "  @keyframes spin {\n",
              "    0% {\n",
              "      border-color: transparent;\n",
              "      border-bottom-color: var(--fill-color);\n",
              "      border-left-color: var(--fill-color);\n",
              "    }\n",
              "    20% {\n",
              "      border-color: transparent;\n",
              "      border-left-color: var(--fill-color);\n",
              "      border-top-color: var(--fill-color);\n",
              "    }\n",
              "    30% {\n",
              "      border-color: transparent;\n",
              "      border-left-color: var(--fill-color);\n",
              "      border-top-color: var(--fill-color);\n",
              "      border-right-color: var(--fill-color);\n",
              "    }\n",
              "    40% {\n",
              "      border-color: transparent;\n",
              "      border-right-color: var(--fill-color);\n",
              "      border-top-color: var(--fill-color);\n",
              "    }\n",
              "    60% {\n",
              "      border-color: transparent;\n",
              "      border-right-color: var(--fill-color);\n",
              "    }\n",
              "    80% {\n",
              "      border-color: transparent;\n",
              "      border-right-color: var(--fill-color);\n",
              "      border-bottom-color: var(--fill-color);\n",
              "    }\n",
              "    90% {\n",
              "      border-color: transparent;\n",
              "      border-bottom-color: var(--fill-color);\n",
              "    }\n",
              "  }\n",
              "</style>\n",
              "\n",
              "  <script>\n",
              "    async function quickchart(key) {\n",
              "      const quickchartButtonEl =\n",
              "        document.querySelector('#' + key + ' button');\n",
              "      quickchartButtonEl.disabled = true;  // To prevent multiple clicks.\n",
              "      quickchartButtonEl.classList.add('colab-df-spinner');\n",
              "      try {\n",
              "        const charts = await google.colab.kernel.invokeFunction(\n",
              "            'suggestCharts', [key], {});\n",
              "      } catch (error) {\n",
              "        console.error('Error during call to suggestCharts:', error);\n",
              "      }\n",
              "      quickchartButtonEl.classList.remove('colab-df-spinner');\n",
              "      quickchartButtonEl.classList.add('colab-df-quickchart-complete');\n",
              "    }\n",
              "    (() => {\n",
              "      let quickchartButtonEl =\n",
              "        document.querySelector('#df-bb177b94-e1d7-452a-babe-c53fabe9aa6f button');\n",
              "      quickchartButtonEl.style.display =\n",
              "        google.colab.kernel.accessAllowed ? 'block' : 'none';\n",
              "    })();\n",
              "  </script>\n",
              "</div>\n",
              "    </div>\n",
              "  </div>\n"
            ]
          },
          "metadata": {},
          "execution_count": 164
        }
      ],
      "source": [
        "# printing the first 5 rows of the dataset\n",
        "data=pd.read_csv('/content/Test.csv')\n",
        "data"
      ]
    },
    {
      "cell_type": "code",
      "execution_count": 165,
      "metadata": {
        "id": "cm3OkYWFY1zj",
        "colab": {
          "base_uri": "https://localhost:8080/"
        },
        "outputId": "22b9de87-f409-483e-9005-a42d0df26968"
      },
      "outputs": [
        {
          "output_type": "execute_result",
          "data": {
            "text/plain": [
              "ID                       2\n",
              "region              116687\n",
              "tenure                   1\n",
              "Amount              103029\n",
              "refill_frequency    103029\n",
              "revenue              98375\n",
              "arpu_segment         98375\n",
              "frequency            98375\n",
              "data_volume         148425\n",
              "on_net              107574\n",
              "Procuct_1           123081\n",
              "Procuct_2           183392\n",
              "zone1               298492\n",
              "zone2               304137\n",
              "mrg                      1\n",
              "regularity               1\n",
              "top_pack            124338\n",
              "freq_top_pack       124338\n",
              "dtype: int64"
            ]
          },
          "metadata": {},
          "execution_count": 165
        }
      ],
      "source": [
        "data.isnull().sum()\n",
        "#data['Target'].fillna(0,inplace=True)"
      ]
    },
    {
      "cell_type": "code",
      "execution_count": 129,
      "metadata": {
        "id": "erZAUYmPY1zn"
      },
      "outputs": [],
      "source": [
        "#data.drop(columns='ID', inplace=True) # removing unnecessary colum\n",
        "\n",
        "#data.columns = [col.lower().replace(' ', '_') for col in data.columns] # renaming the column names"
      ]
    },
    {
      "cell_type": "code",
      "execution_count": 166,
      "metadata": {
        "colab": {
          "base_uri": "https://localhost:8080/"
        },
        "id": "Rkj3ez24Y1zr",
        "outputId": "5df57130-31c9-483e-f1e4-24c3ef0bab7f"
      },
      "outputs": [
        {
          "output_type": "stream",
          "name": "stdout",
          "text": [
            "ID                  2\n",
            "region              0\n",
            "tenure              1\n",
            "Amount              0\n",
            "refill_frequency    0\n",
            "revenue             0\n",
            "arpu_segment        0\n",
            "frequency           0\n",
            "data_volume         0\n",
            "on_net              0\n",
            "Procuct_1           0\n",
            "Procuct_2           0\n",
            "zone1               0\n",
            "zone2               0\n",
            "mrg                 1\n",
            "regularity          1\n",
            "top_pack            0\n",
            "freq_top_pack       0\n",
            "dtype: int64\n",
            "                ID  region  tenure   Amount  refill_frequency  revenue  \\\n",
            "0  ID_1I1XQIKT5A9L       2     5.0  2008.55              16.0  2010.26   \n",
            "1  ID_KS81OHJGUETH       2     5.0   256.41               2.0   250.43   \n",
            "2  ID_A84OW2TIMWBV      10     5.0  1581.20               8.0  1578.21   \n",
            "3  ID_BM9GONF7TJCO       8     5.0  1431.62               8.0  1432.05   \n",
            "4  ID_5C7R4UZQFWF3       8     5.0  2008.55              18.0  1793.59   \n",
            "\n",
            "   arpu_segment  frequency  data_volume  on_net  Procuct_1  Procuct_2  zone1  \\\n",
            "0        670.09       17.0    10.000000   247.0       17.0       70.0    0.0   \n",
            "1         83.33        3.0  3347.687607    15.0      100.0       84.0    0.0   \n",
            "2        526.07        8.0   436.000000    47.0      113.0        5.0    0.0   \n",
            "3        477.35       10.0  3262.000000    22.0       25.0        1.0    0.0   \n",
            "4        597.86       24.0  3347.687607    70.0       23.0        2.0    0.0   \n",
            "\n",
            "   zone2  mrg  regularity  top_pack  freq_top_pack  \n",
            "0    0.0  0.0         4.0        75           11.0  \n",
            "1    0.0  0.0         7.0        75            1.0  \n",
            "2    0.0  0.0        46.0        55            6.0  \n",
            "3    0.0  0.0        57.0        75            3.0  \n",
            "4    0.0  0.0        44.0        89            3.0  \n"
          ]
        }
      ],
      "source": [
        "#data.dropna(thresh = data.shape[1]/3, axis = 0, inplace = True)\n",
        "#data = data[data.isnull().sum(axis=1) < 13]\n",
        "df=data\n",
        "# Handle missing numerical values\n",
        "#df['tenure'].fillna(df['tenure'].median(), inplace=True)\n",
        "\n",
        "# replacing values\n",
        "from sklearn import preprocessing\n",
        "\n",
        "from sklearn.preprocessing import OrdinalEncoder\n",
        "from sklearn.preprocessing import LabelEncoder\n",
        "\n",
        "\n",
        "for col in [\"region\",\"top_pack\"]:\n",
        "    df[col] = LabelEncoder().fit_transform(df[col])\n",
        "\n",
        "\n",
        "\n",
        "le = LabelEncoder()\n",
        "#le.fit_transform(df['region'])\n",
        "#df['region'].fillna(df['region'].mode()[0], inplace=True)\n",
        "\n",
        "#le.fit_transform(df['top_pack'])\n",
        "#df['top_pack'].fillna(df['top_pack'].mode()[0], inplace=True)\n",
        "\n",
        "\n",
        "\n",
        "df['tenure'].replace(['K > 24 month', 'H 15-18 month','I 18-21 month','H 15-18 month','G 12-15 month','K > 24 month','J 21-24 month','D 3-6 month','E 6-9 month','F 9-12 month'],\n",
        "                        [0, 1,2,3,4,5,6,7,8,9], inplace=True)\n",
        "\n",
        "df['mrg'].replace(['NO', 'YES '],\n",
        "                        [0, 1], inplace=True)\n",
        "\n",
        "\n",
        "df['Amount'].fillna(df['Amount'].mean(), inplace=True)\n",
        "df['refill_frequency'].fillna(df['refill_frequency'].mode()[0], inplace=True)\n",
        "df['revenue'].fillna(df['revenue'].mean(), inplace=True)\n",
        "df['arpu_segment'].fillna(df['arpu_segment'].mean(), inplace=True)\n",
        "df['frequency'].fillna(df['frequency'].mode()[0], inplace=True)\n",
        "df['data_volume'].fillna(df['data_volume'].mean(), inplace=True)\n",
        "df['on_net'].fillna(0, inplace=True)\n",
        "df['Procuct_1'].fillna(df['Procuct_1'].mode()[0], inplace=True)\n",
        "df['Procuct_2'].fillna(df['Procuct_2'].mode()[0], inplace=True)\n",
        "df['zone1'].fillna(df['zone1'].mode()[0], inplace=True)\n",
        "df['zone2'].fillna(df['zone2'].mode()[0], inplace=True)\n",
        "df['freq_top_pack'].fillna(df['freq_top_pack'].mode()[0], inplace=True)\n",
        "\n",
        "\n",
        "# You can handle other categorical columns in a similar manner\n",
        "\n",
        "# Drop rows with missing values\n",
        "#df.dropna(inplace=True)\n",
        "\n",
        "# Validate and verify the data\n",
        "print(df.isnull().sum())\n",
        "print(df.head())"
      ]
    },
    {
      "cell_type": "code",
      "execution_count": 167,
      "metadata": {
        "colab": {
          "base_uri": "https://localhost:8080/",
          "height": 444
        },
        "id": "55V4825jY1zw",
        "outputId": "5384ba58-c609-4d6b-a8bb-179e16aec44d"
      },
      "outputs": [
        {
          "output_type": "execute_result",
          "data": {
            "text/plain": [
              "                     ID  region  tenure       Amount  refill_frequency  \\\n",
              "0       ID_1I1XQIKT5A9L       2     5.0  2008.550000              16.0   \n",
              "1       ID_KS81OHJGUETH       2     5.0   256.410000               2.0   \n",
              "2       ID_A84OW2TIMWBV      10     5.0  1581.200000               8.0   \n",
              "3       ID_BM9GONF7TJCO       8     5.0  1431.620000               8.0   \n",
              "4       ID_5C7R4UZQFWF3       8     5.0  2008.550000              18.0   \n",
              "...                 ...     ...     ...          ...               ...   \n",
              "328011  ID_D86YU3N6W4OE       8     5.0  3418.800000              14.0   \n",
              "328012  ID_V5X0KZYFR1Z3       7     5.0   641.030000               2.0   \n",
              "328013  ID_K6E31P7IGBLC       0     5.0  2361.848505               1.0   \n",
              "328014  ID_4FBNTUM07OQJ      13     5.0  6581.200000               5.0   \n",
              "328015  ID_VYXN90IN5RLD       1     5.0   427.350000               2.0   \n",
              "\n",
              "            revenue  arpu_segment  frequency  data_volume  on_net  Procuct_1  \\\n",
              "0       2010.260000     670.09000       17.0    10.000000   247.0       17.0   \n",
              "1        250.430000      83.33000        3.0  3347.687607    15.0      100.0   \n",
              "2       1578.210000     526.07000        8.0   436.000000    47.0      113.0   \n",
              "3       1432.050000     477.35000       10.0  3262.000000    22.0       25.0   \n",
              "4       1793.590000     597.86000       24.0  3347.687607    70.0       23.0   \n",
              "...             ...           ...        ...          ...     ...        ...   \n",
              "328011  3964.960000    1321.79000       25.0  3347.687607    17.0       77.0   \n",
              "328012   508.970000     169.66000        2.0   870.000000     1.0        1.0   \n",
              "328013  2350.674861     783.56101        1.0  3347.687607     0.0        1.0   \n",
              "328014  6579.910000    2193.16000       11.0  3500.000000   477.0       71.0   \n",
              "328015   427.350000     142.31000        2.0  3347.687607    23.0       19.0   \n",
              "\n",
              "        Procuct_2  zone1  zone2  mrg  regularity  top_pack  freq_top_pack  \n",
              "0            70.0    0.0    0.0  0.0         4.0        75           11.0  \n",
              "1            84.0    0.0    0.0  0.0         7.0        75            1.0  \n",
              "2             5.0    0.0    0.0  0.0        46.0        55            6.0  \n",
              "3             1.0    0.0    0.0  0.0        57.0        75            3.0  \n",
              "4             2.0    0.0    0.0  0.0        44.0        89            3.0  \n",
              "...           ...    ...    ...  ...         ...       ...            ...  \n",
              "328011        1.0    0.0    0.0  0.0        34.0        12           10.0  \n",
              "328012        1.0    0.0    0.0  0.0        62.0        17            1.0  \n",
              "328013        1.0    0.0    0.0  0.0        46.0       101            1.0  \n",
              "328014       36.0  117.0    0.0  0.0        62.0        59            3.0  \n",
              "328015        1.0    0.0    0.0  0.0        26.0        12            1.0  \n",
              "\n",
              "[328016 rows x 18 columns]"
            ],
            "text/html": [
              "\n",
              "  <div id=\"df-56da69e5-57a0-49b7-a13a-535fd3645a47\" class=\"colab-df-container\">\n",
              "    <div>\n",
              "<style scoped>\n",
              "    .dataframe tbody tr th:only-of-type {\n",
              "        vertical-align: middle;\n",
              "    }\n",
              "\n",
              "    .dataframe tbody tr th {\n",
              "        vertical-align: top;\n",
              "    }\n",
              "\n",
              "    .dataframe thead th {\n",
              "        text-align: right;\n",
              "    }\n",
              "</style>\n",
              "<table border=\"1\" class=\"dataframe\">\n",
              "  <thead>\n",
              "    <tr style=\"text-align: right;\">\n",
              "      <th></th>\n",
              "      <th>ID</th>\n",
              "      <th>region</th>\n",
              "      <th>tenure</th>\n",
              "      <th>Amount</th>\n",
              "      <th>refill_frequency</th>\n",
              "      <th>revenue</th>\n",
              "      <th>arpu_segment</th>\n",
              "      <th>frequency</th>\n",
              "      <th>data_volume</th>\n",
              "      <th>on_net</th>\n",
              "      <th>Procuct_1</th>\n",
              "      <th>Procuct_2</th>\n",
              "      <th>zone1</th>\n",
              "      <th>zone2</th>\n",
              "      <th>mrg</th>\n",
              "      <th>regularity</th>\n",
              "      <th>top_pack</th>\n",
              "      <th>freq_top_pack</th>\n",
              "    </tr>\n",
              "  </thead>\n",
              "  <tbody>\n",
              "    <tr>\n",
              "      <th>0</th>\n",
              "      <td>ID_1I1XQIKT5A9L</td>\n",
              "      <td>2</td>\n",
              "      <td>5.0</td>\n",
              "      <td>2008.550000</td>\n",
              "      <td>16.0</td>\n",
              "      <td>2010.260000</td>\n",
              "      <td>670.09000</td>\n",
              "      <td>17.0</td>\n",
              "      <td>10.000000</td>\n",
              "      <td>247.0</td>\n",
              "      <td>17.0</td>\n",
              "      <td>70.0</td>\n",
              "      <td>0.0</td>\n",
              "      <td>0.0</td>\n",
              "      <td>0.0</td>\n",
              "      <td>4.0</td>\n",
              "      <td>75</td>\n",
              "      <td>11.0</td>\n",
              "    </tr>\n",
              "    <tr>\n",
              "      <th>1</th>\n",
              "      <td>ID_KS81OHJGUETH</td>\n",
              "      <td>2</td>\n",
              "      <td>5.0</td>\n",
              "      <td>256.410000</td>\n",
              "      <td>2.0</td>\n",
              "      <td>250.430000</td>\n",
              "      <td>83.33000</td>\n",
              "      <td>3.0</td>\n",
              "      <td>3347.687607</td>\n",
              "      <td>15.0</td>\n",
              "      <td>100.0</td>\n",
              "      <td>84.0</td>\n",
              "      <td>0.0</td>\n",
              "      <td>0.0</td>\n",
              "      <td>0.0</td>\n",
              "      <td>7.0</td>\n",
              "      <td>75</td>\n",
              "      <td>1.0</td>\n",
              "    </tr>\n",
              "    <tr>\n",
              "      <th>2</th>\n",
              "      <td>ID_A84OW2TIMWBV</td>\n",
              "      <td>10</td>\n",
              "      <td>5.0</td>\n",
              "      <td>1581.200000</td>\n",
              "      <td>8.0</td>\n",
              "      <td>1578.210000</td>\n",
              "      <td>526.07000</td>\n",
              "      <td>8.0</td>\n",
              "      <td>436.000000</td>\n",
              "      <td>47.0</td>\n",
              "      <td>113.0</td>\n",
              "      <td>5.0</td>\n",
              "      <td>0.0</td>\n",
              "      <td>0.0</td>\n",
              "      <td>0.0</td>\n",
              "      <td>46.0</td>\n",
              "      <td>55</td>\n",
              "      <td>6.0</td>\n",
              "    </tr>\n",
              "    <tr>\n",
              "      <th>3</th>\n",
              "      <td>ID_BM9GONF7TJCO</td>\n",
              "      <td>8</td>\n",
              "      <td>5.0</td>\n",
              "      <td>1431.620000</td>\n",
              "      <td>8.0</td>\n",
              "      <td>1432.050000</td>\n",
              "      <td>477.35000</td>\n",
              "      <td>10.0</td>\n",
              "      <td>3262.000000</td>\n",
              "      <td>22.0</td>\n",
              "      <td>25.0</td>\n",
              "      <td>1.0</td>\n",
              "      <td>0.0</td>\n",
              "      <td>0.0</td>\n",
              "      <td>0.0</td>\n",
              "      <td>57.0</td>\n",
              "      <td>75</td>\n",
              "      <td>3.0</td>\n",
              "    </tr>\n",
              "    <tr>\n",
              "      <th>4</th>\n",
              "      <td>ID_5C7R4UZQFWF3</td>\n",
              "      <td>8</td>\n",
              "      <td>5.0</td>\n",
              "      <td>2008.550000</td>\n",
              "      <td>18.0</td>\n",
              "      <td>1793.590000</td>\n",
              "      <td>597.86000</td>\n",
              "      <td>24.0</td>\n",
              "      <td>3347.687607</td>\n",
              "      <td>70.0</td>\n",
              "      <td>23.0</td>\n",
              "      <td>2.0</td>\n",
              "      <td>0.0</td>\n",
              "      <td>0.0</td>\n",
              "      <td>0.0</td>\n",
              "      <td>44.0</td>\n",
              "      <td>89</td>\n",
              "      <td>3.0</td>\n",
              "    </tr>\n",
              "    <tr>\n",
              "      <th>...</th>\n",
              "      <td>...</td>\n",
              "      <td>...</td>\n",
              "      <td>...</td>\n",
              "      <td>...</td>\n",
              "      <td>...</td>\n",
              "      <td>...</td>\n",
              "      <td>...</td>\n",
              "      <td>...</td>\n",
              "      <td>...</td>\n",
              "      <td>...</td>\n",
              "      <td>...</td>\n",
              "      <td>...</td>\n",
              "      <td>...</td>\n",
              "      <td>...</td>\n",
              "      <td>...</td>\n",
              "      <td>...</td>\n",
              "      <td>...</td>\n",
              "      <td>...</td>\n",
              "    </tr>\n",
              "    <tr>\n",
              "      <th>328011</th>\n",
              "      <td>ID_D86YU3N6W4OE</td>\n",
              "      <td>8</td>\n",
              "      <td>5.0</td>\n",
              "      <td>3418.800000</td>\n",
              "      <td>14.0</td>\n",
              "      <td>3964.960000</td>\n",
              "      <td>1321.79000</td>\n",
              "      <td>25.0</td>\n",
              "      <td>3347.687607</td>\n",
              "      <td>17.0</td>\n",
              "      <td>77.0</td>\n",
              "      <td>1.0</td>\n",
              "      <td>0.0</td>\n",
              "      <td>0.0</td>\n",
              "      <td>0.0</td>\n",
              "      <td>34.0</td>\n",
              "      <td>12</td>\n",
              "      <td>10.0</td>\n",
              "    </tr>\n",
              "    <tr>\n",
              "      <th>328012</th>\n",
              "      <td>ID_V5X0KZYFR1Z3</td>\n",
              "      <td>7</td>\n",
              "      <td>5.0</td>\n",
              "      <td>641.030000</td>\n",
              "      <td>2.0</td>\n",
              "      <td>508.970000</td>\n",
              "      <td>169.66000</td>\n",
              "      <td>2.0</td>\n",
              "      <td>870.000000</td>\n",
              "      <td>1.0</td>\n",
              "      <td>1.0</td>\n",
              "      <td>1.0</td>\n",
              "      <td>0.0</td>\n",
              "      <td>0.0</td>\n",
              "      <td>0.0</td>\n",
              "      <td>62.0</td>\n",
              "      <td>17</td>\n",
              "      <td>1.0</td>\n",
              "    </tr>\n",
              "    <tr>\n",
              "      <th>328013</th>\n",
              "      <td>ID_K6E31P7IGBLC</td>\n",
              "      <td>0</td>\n",
              "      <td>5.0</td>\n",
              "      <td>2361.848505</td>\n",
              "      <td>1.0</td>\n",
              "      <td>2350.674861</td>\n",
              "      <td>783.56101</td>\n",
              "      <td>1.0</td>\n",
              "      <td>3347.687607</td>\n",
              "      <td>0.0</td>\n",
              "      <td>1.0</td>\n",
              "      <td>1.0</td>\n",
              "      <td>0.0</td>\n",
              "      <td>0.0</td>\n",
              "      <td>0.0</td>\n",
              "      <td>46.0</td>\n",
              "      <td>101</td>\n",
              "      <td>1.0</td>\n",
              "    </tr>\n",
              "    <tr>\n",
              "      <th>328014</th>\n",
              "      <td>ID_4FBNTUM07OQJ</td>\n",
              "      <td>13</td>\n",
              "      <td>5.0</td>\n",
              "      <td>6581.200000</td>\n",
              "      <td>5.0</td>\n",
              "      <td>6579.910000</td>\n",
              "      <td>2193.16000</td>\n",
              "      <td>11.0</td>\n",
              "      <td>3500.000000</td>\n",
              "      <td>477.0</td>\n",
              "      <td>71.0</td>\n",
              "      <td>36.0</td>\n",
              "      <td>117.0</td>\n",
              "      <td>0.0</td>\n",
              "      <td>0.0</td>\n",
              "      <td>62.0</td>\n",
              "      <td>59</td>\n",
              "      <td>3.0</td>\n",
              "    </tr>\n",
              "    <tr>\n",
              "      <th>328015</th>\n",
              "      <td>ID_VYXN90IN5RLD</td>\n",
              "      <td>1</td>\n",
              "      <td>5.0</td>\n",
              "      <td>427.350000</td>\n",
              "      <td>2.0</td>\n",
              "      <td>427.350000</td>\n",
              "      <td>142.31000</td>\n",
              "      <td>2.0</td>\n",
              "      <td>3347.687607</td>\n",
              "      <td>23.0</td>\n",
              "      <td>19.0</td>\n",
              "      <td>1.0</td>\n",
              "      <td>0.0</td>\n",
              "      <td>0.0</td>\n",
              "      <td>0.0</td>\n",
              "      <td>26.0</td>\n",
              "      <td>12</td>\n",
              "      <td>1.0</td>\n",
              "    </tr>\n",
              "  </tbody>\n",
              "</table>\n",
              "<p>328016 rows × 18 columns</p>\n",
              "</div>\n",
              "    <div class=\"colab-df-buttons\">\n",
              "\n",
              "  <div class=\"colab-df-container\">\n",
              "    <button class=\"colab-df-convert\" onclick=\"convertToInteractive('df-56da69e5-57a0-49b7-a13a-535fd3645a47')\"\n",
              "            title=\"Convert this dataframe to an interactive table.\"\n",
              "            style=\"display:none;\">\n",
              "\n",
              "  <svg xmlns=\"http://www.w3.org/2000/svg\" height=\"24px\" viewBox=\"0 -960 960 960\">\n",
              "    <path d=\"M120-120v-720h720v720H120Zm60-500h600v-160H180v160Zm220 220h160v-160H400v160Zm0 220h160v-160H400v160ZM180-400h160v-160H180v160Zm440 0h160v-160H620v160ZM180-180h160v-160H180v160Zm440 0h160v-160H620v160Z\"/>\n",
              "  </svg>\n",
              "    </button>\n",
              "\n",
              "  <style>\n",
              "    .colab-df-container {\n",
              "      display:flex;\n",
              "      gap: 12px;\n",
              "    }\n",
              "\n",
              "    .colab-df-convert {\n",
              "      background-color: #E8F0FE;\n",
              "      border: none;\n",
              "      border-radius: 50%;\n",
              "      cursor: pointer;\n",
              "      display: none;\n",
              "      fill: #1967D2;\n",
              "      height: 32px;\n",
              "      padding: 0 0 0 0;\n",
              "      width: 32px;\n",
              "    }\n",
              "\n",
              "    .colab-df-convert:hover {\n",
              "      background-color: #E2EBFA;\n",
              "      box-shadow: 0px 1px 2px rgba(60, 64, 67, 0.3), 0px 1px 3px 1px rgba(60, 64, 67, 0.15);\n",
              "      fill: #174EA6;\n",
              "    }\n",
              "\n",
              "    .colab-df-buttons div {\n",
              "      margin-bottom: 4px;\n",
              "    }\n",
              "\n",
              "    [theme=dark] .colab-df-convert {\n",
              "      background-color: #3B4455;\n",
              "      fill: #D2E3FC;\n",
              "    }\n",
              "\n",
              "    [theme=dark] .colab-df-convert:hover {\n",
              "      background-color: #434B5C;\n",
              "      box-shadow: 0px 1px 3px 1px rgba(0, 0, 0, 0.15);\n",
              "      filter: drop-shadow(0px 1px 2px rgba(0, 0, 0, 0.3));\n",
              "      fill: #FFFFFF;\n",
              "    }\n",
              "  </style>\n",
              "\n",
              "    <script>\n",
              "      const buttonEl =\n",
              "        document.querySelector('#df-56da69e5-57a0-49b7-a13a-535fd3645a47 button.colab-df-convert');\n",
              "      buttonEl.style.display =\n",
              "        google.colab.kernel.accessAllowed ? 'block' : 'none';\n",
              "\n",
              "      async function convertToInteractive(key) {\n",
              "        const element = document.querySelector('#df-56da69e5-57a0-49b7-a13a-535fd3645a47');\n",
              "        const dataTable =\n",
              "          await google.colab.kernel.invokeFunction('convertToInteractive',\n",
              "                                                    [key], {});\n",
              "        if (!dataTable) return;\n",
              "\n",
              "        const docLinkHtml = 'Like what you see? Visit the ' +\n",
              "          '<a target=\"_blank\" href=https://colab.research.google.com/notebooks/data_table.ipynb>data table notebook</a>'\n",
              "          + ' to learn more about interactive tables.';\n",
              "        element.innerHTML = '';\n",
              "        dataTable['output_type'] = 'display_data';\n",
              "        await google.colab.output.renderOutput(dataTable, element);\n",
              "        const docLink = document.createElement('div');\n",
              "        docLink.innerHTML = docLinkHtml;\n",
              "        element.appendChild(docLink);\n",
              "      }\n",
              "    </script>\n",
              "  </div>\n",
              "\n",
              "\n",
              "<div id=\"df-483e6aa9-8d5d-47d9-90b2-3966a8f139bd\">\n",
              "  <button class=\"colab-df-quickchart\" onclick=\"quickchart('df-483e6aa9-8d5d-47d9-90b2-3966a8f139bd')\"\n",
              "            title=\"Suggest charts\"\n",
              "            style=\"display:none;\">\n",
              "\n",
              "<svg xmlns=\"http://www.w3.org/2000/svg\" height=\"24px\"viewBox=\"0 0 24 24\"\n",
              "     width=\"24px\">\n",
              "    <g>\n",
              "        <path d=\"M19 3H5c-1.1 0-2 .9-2 2v14c0 1.1.9 2 2 2h14c1.1 0 2-.9 2-2V5c0-1.1-.9-2-2-2zM9 17H7v-7h2v7zm4 0h-2V7h2v10zm4 0h-2v-4h2v4z\"/>\n",
              "    </g>\n",
              "</svg>\n",
              "  </button>\n",
              "\n",
              "<style>\n",
              "  .colab-df-quickchart {\n",
              "      --bg-color: #E8F0FE;\n",
              "      --fill-color: #1967D2;\n",
              "      --hover-bg-color: #E2EBFA;\n",
              "      --hover-fill-color: #174EA6;\n",
              "      --disabled-fill-color: #AAA;\n",
              "      --disabled-bg-color: #DDD;\n",
              "  }\n",
              "\n",
              "  [theme=dark] .colab-df-quickchart {\n",
              "      --bg-color: #3B4455;\n",
              "      --fill-color: #D2E3FC;\n",
              "      --hover-bg-color: #434B5C;\n",
              "      --hover-fill-color: #FFFFFF;\n",
              "      --disabled-bg-color: #3B4455;\n",
              "      --disabled-fill-color: #666;\n",
              "  }\n",
              "\n",
              "  .colab-df-quickchart {\n",
              "    background-color: var(--bg-color);\n",
              "    border: none;\n",
              "    border-radius: 50%;\n",
              "    cursor: pointer;\n",
              "    display: none;\n",
              "    fill: var(--fill-color);\n",
              "    height: 32px;\n",
              "    padding: 0;\n",
              "    width: 32px;\n",
              "  }\n",
              "\n",
              "  .colab-df-quickchart:hover {\n",
              "    background-color: var(--hover-bg-color);\n",
              "    box-shadow: 0 1px 2px rgba(60, 64, 67, 0.3), 0 1px 3px 1px rgba(60, 64, 67, 0.15);\n",
              "    fill: var(--button-hover-fill-color);\n",
              "  }\n",
              "\n",
              "  .colab-df-quickchart-complete:disabled,\n",
              "  .colab-df-quickchart-complete:disabled:hover {\n",
              "    background-color: var(--disabled-bg-color);\n",
              "    fill: var(--disabled-fill-color);\n",
              "    box-shadow: none;\n",
              "  }\n",
              "\n",
              "  .colab-df-spinner {\n",
              "    border: 2px solid var(--fill-color);\n",
              "    border-color: transparent;\n",
              "    border-bottom-color: var(--fill-color);\n",
              "    animation:\n",
              "      spin 1s steps(1) infinite;\n",
              "  }\n",
              "\n",
              "  @keyframes spin {\n",
              "    0% {\n",
              "      border-color: transparent;\n",
              "      border-bottom-color: var(--fill-color);\n",
              "      border-left-color: var(--fill-color);\n",
              "    }\n",
              "    20% {\n",
              "      border-color: transparent;\n",
              "      border-left-color: var(--fill-color);\n",
              "      border-top-color: var(--fill-color);\n",
              "    }\n",
              "    30% {\n",
              "      border-color: transparent;\n",
              "      border-left-color: var(--fill-color);\n",
              "      border-top-color: var(--fill-color);\n",
              "      border-right-color: var(--fill-color);\n",
              "    }\n",
              "    40% {\n",
              "      border-color: transparent;\n",
              "      border-right-color: var(--fill-color);\n",
              "      border-top-color: var(--fill-color);\n",
              "    }\n",
              "    60% {\n",
              "      border-color: transparent;\n",
              "      border-right-color: var(--fill-color);\n",
              "    }\n",
              "    80% {\n",
              "      border-color: transparent;\n",
              "      border-right-color: var(--fill-color);\n",
              "      border-bottom-color: var(--fill-color);\n",
              "    }\n",
              "    90% {\n",
              "      border-color: transparent;\n",
              "      border-bottom-color: var(--fill-color);\n",
              "    }\n",
              "  }\n",
              "</style>\n",
              "\n",
              "  <script>\n",
              "    async function quickchart(key) {\n",
              "      const quickchartButtonEl =\n",
              "        document.querySelector('#' + key + ' button');\n",
              "      quickchartButtonEl.disabled = true;  // To prevent multiple clicks.\n",
              "      quickchartButtonEl.classList.add('colab-df-spinner');\n",
              "      try {\n",
              "        const charts = await google.colab.kernel.invokeFunction(\n",
              "            'suggestCharts', [key], {});\n",
              "      } catch (error) {\n",
              "        console.error('Error during call to suggestCharts:', error);\n",
              "      }\n",
              "      quickchartButtonEl.classList.remove('colab-df-spinner');\n",
              "      quickchartButtonEl.classList.add('colab-df-quickchart-complete');\n",
              "    }\n",
              "    (() => {\n",
              "      let quickchartButtonEl =\n",
              "        document.querySelector('#df-483e6aa9-8d5d-47d9-90b2-3966a8f139bd button');\n",
              "      quickchartButtonEl.style.display =\n",
              "        google.colab.kernel.accessAllowed ? 'block' : 'none';\n",
              "    })();\n",
              "  </script>\n",
              "</div>\n",
              "    </div>\n",
              "  </div>\n"
            ]
          },
          "metadata": {},
          "execution_count": 167
        }
      ],
      "source": [
        "df"
      ]
    },
    {
      "cell_type": "code",
      "source": [
        "df['regularity'].replace(['NO', 'YES '],\n",
        "                        [0, 1], inplace=True)\n",
        "df['freq_top_pack'].replace(['NO', 'All-net 500F=2000F;5d'],\n",
        "                        [0, 1], inplace=True)"
      ],
      "metadata": {
        "id": "GMMx7QeN6weV"
      },
      "execution_count": 168,
      "outputs": []
    },
    {
      "cell_type": "code",
      "source": [
        "df.dropna(inplace=True)"
      ],
      "metadata": {
        "id": "8aflORNNLltS"
      },
      "execution_count": 171,
      "outputs": []
    },
    {
      "cell_type": "code",
      "source": [
        "df.isnull().sum()"
      ],
      "metadata": {
        "colab": {
          "base_uri": "https://localhost:8080/"
        },
        "id": "Csf2cYIuLsnn",
        "outputId": "3745e1c5-930b-4be2-e876-905245553b08"
      },
      "execution_count": 172,
      "outputs": [
        {
          "output_type": "execute_result",
          "data": {
            "text/plain": [
              "ID                  0\n",
              "region              0\n",
              "tenure              0\n",
              "Amount              0\n",
              "refill_frequency    0\n",
              "revenue             0\n",
              "arpu_segment        0\n",
              "frequency           0\n",
              "data_volume         0\n",
              "on_net              0\n",
              "Procuct_1           0\n",
              "Procuct_2           0\n",
              "zone1               0\n",
              "zone2               0\n",
              "mrg                 0\n",
              "regularity          0\n",
              "top_pack            0\n",
              "freq_top_pack       0\n",
              "dtype: int64"
            ]
          },
          "metadata": {},
          "execution_count": 172
        }
      ]
    },
    {
      "cell_type": "code",
      "execution_count": 173,
      "metadata": {
        "colab": {
          "base_uri": "https://localhost:8080/",
          "height": 304
        },
        "id": "cBswt5wPY1zy",
        "outputId": "3b6f2601-fcb4-4f90-f654-af0cfa2a6151"
      },
      "outputs": [
        {
          "output_type": "error",
          "ename": "ValueError",
          "evalue": "ignored",
          "traceback": [
            "\u001b[0;31m---------------------------------------------------------------------------\u001b[0m",
            "\u001b[0;31mValueError\u001b[0m                                Traceback (most recent call last)",
            "\u001b[0;32m/usr/local/lib/python3.10/dist-packages/pandas/_libs/lib.pyx\u001b[0m in \u001b[0;36mpandas._libs.lib.maybe_convert_numeric\u001b[0;34m()\u001b[0m\n",
            "\u001b[0;31mValueError\u001b[0m: Unable to parse string \"ID_1I1XQIKT5A9L\"",
            "\nDuring handling of the above exception, another exception occurred:\n",
            "\u001b[0;31mValueError\u001b[0m                                Traceback (most recent call last)",
            "\u001b[0;32m<ipython-input-173-6def46ca8df2>\u001b[0m in \u001b[0;36m<cell line: 1>\u001b[0;34m()\u001b[0m\n\u001b[0;32m----> 1\u001b[0;31m \u001b[0mdf\u001b[0m\u001b[0;34m.\u001b[0m\u001b[0mapply\u001b[0m\u001b[0;34m(\u001b[0m\u001b[0mpd\u001b[0m\u001b[0;34m.\u001b[0m\u001b[0mto_numeric\u001b[0m\u001b[0;34m)\u001b[0m\u001b[0;34m\u001b[0m\u001b[0;34m\u001b[0m\u001b[0m\n\u001b[0m",
            "\u001b[0;32m/usr/local/lib/python3.10/dist-packages/pandas/core/frame.py\u001b[0m in \u001b[0;36mapply\u001b[0;34m(self, func, axis, raw, result_type, args, **kwargs)\u001b[0m\n\u001b[1;32m   9566\u001b[0m             \u001b[0mkwargs\u001b[0m\u001b[0;34m=\u001b[0m\u001b[0mkwargs\u001b[0m\u001b[0;34m,\u001b[0m\u001b[0;34m\u001b[0m\u001b[0;34m\u001b[0m\u001b[0m\n\u001b[1;32m   9567\u001b[0m         )\n\u001b[0;32m-> 9568\u001b[0;31m         \u001b[0;32mreturn\u001b[0m \u001b[0mop\u001b[0m\u001b[0;34m.\u001b[0m\u001b[0mapply\u001b[0m\u001b[0;34m(\u001b[0m\u001b[0;34m)\u001b[0m\u001b[0;34m.\u001b[0m\u001b[0m__finalize__\u001b[0m\u001b[0;34m(\u001b[0m\u001b[0mself\u001b[0m\u001b[0;34m,\u001b[0m \u001b[0mmethod\u001b[0m\u001b[0;34m=\u001b[0m\u001b[0;34m\"apply\"\u001b[0m\u001b[0;34m)\u001b[0m\u001b[0;34m\u001b[0m\u001b[0;34m\u001b[0m\u001b[0m\n\u001b[0m\u001b[1;32m   9569\u001b[0m \u001b[0;34m\u001b[0m\u001b[0m\n\u001b[1;32m   9570\u001b[0m     def applymap(\n",
            "\u001b[0;32m/usr/local/lib/python3.10/dist-packages/pandas/core/apply.py\u001b[0m in \u001b[0;36mapply\u001b[0;34m(self)\u001b[0m\n\u001b[1;32m    762\u001b[0m             \u001b[0;32mreturn\u001b[0m \u001b[0mself\u001b[0m\u001b[0;34m.\u001b[0m\u001b[0mapply_raw\u001b[0m\u001b[0;34m(\u001b[0m\u001b[0;34m)\u001b[0m\u001b[0;34m\u001b[0m\u001b[0;34m\u001b[0m\u001b[0m\n\u001b[1;32m    763\u001b[0m \u001b[0;34m\u001b[0m\u001b[0m\n\u001b[0;32m--> 764\u001b[0;31m         \u001b[0;32mreturn\u001b[0m \u001b[0mself\u001b[0m\u001b[0;34m.\u001b[0m\u001b[0mapply_standard\u001b[0m\u001b[0;34m(\u001b[0m\u001b[0;34m)\u001b[0m\u001b[0;34m\u001b[0m\u001b[0;34m\u001b[0m\u001b[0m\n\u001b[0m\u001b[1;32m    765\u001b[0m \u001b[0;34m\u001b[0m\u001b[0m\n\u001b[1;32m    766\u001b[0m     \u001b[0;32mdef\u001b[0m \u001b[0magg\u001b[0m\u001b[0;34m(\u001b[0m\u001b[0mself\u001b[0m\u001b[0;34m)\u001b[0m\u001b[0;34m:\u001b[0m\u001b[0;34m\u001b[0m\u001b[0;34m\u001b[0m\u001b[0m\n",
            "\u001b[0;32m/usr/local/lib/python3.10/dist-packages/pandas/core/apply.py\u001b[0m in \u001b[0;36mapply_standard\u001b[0;34m(self)\u001b[0m\n\u001b[1;32m    889\u001b[0m \u001b[0;34m\u001b[0m\u001b[0m\n\u001b[1;32m    890\u001b[0m     \u001b[0;32mdef\u001b[0m \u001b[0mapply_standard\u001b[0m\u001b[0;34m(\u001b[0m\u001b[0mself\u001b[0m\u001b[0;34m)\u001b[0m\u001b[0;34m:\u001b[0m\u001b[0;34m\u001b[0m\u001b[0;34m\u001b[0m\u001b[0m\n\u001b[0;32m--> 891\u001b[0;31m         \u001b[0mresults\u001b[0m\u001b[0;34m,\u001b[0m \u001b[0mres_index\u001b[0m \u001b[0;34m=\u001b[0m \u001b[0mself\u001b[0m\u001b[0;34m.\u001b[0m\u001b[0mapply_series_generator\u001b[0m\u001b[0;34m(\u001b[0m\u001b[0;34m)\u001b[0m\u001b[0;34m\u001b[0m\u001b[0;34m\u001b[0m\u001b[0m\n\u001b[0m\u001b[1;32m    892\u001b[0m \u001b[0;34m\u001b[0m\u001b[0m\n\u001b[1;32m    893\u001b[0m         \u001b[0;31m# wrap results\u001b[0m\u001b[0;34m\u001b[0m\u001b[0;34m\u001b[0m\u001b[0m\n",
            "\u001b[0;32m/usr/local/lib/python3.10/dist-packages/pandas/core/apply.py\u001b[0m in \u001b[0;36mapply_series_generator\u001b[0;34m(self)\u001b[0m\n\u001b[1;32m    905\u001b[0m             \u001b[0;32mfor\u001b[0m \u001b[0mi\u001b[0m\u001b[0;34m,\u001b[0m \u001b[0mv\u001b[0m \u001b[0;32min\u001b[0m \u001b[0menumerate\u001b[0m\u001b[0;34m(\u001b[0m\u001b[0mseries_gen\u001b[0m\u001b[0;34m)\u001b[0m\u001b[0;34m:\u001b[0m\u001b[0;34m\u001b[0m\u001b[0;34m\u001b[0m\u001b[0m\n\u001b[1;32m    906\u001b[0m                 \u001b[0;31m# ignore SettingWithCopy here in case the user mutates\u001b[0m\u001b[0;34m\u001b[0m\u001b[0;34m\u001b[0m\u001b[0m\n\u001b[0;32m--> 907\u001b[0;31m                 \u001b[0mresults\u001b[0m\u001b[0;34m[\u001b[0m\u001b[0mi\u001b[0m\u001b[0;34m]\u001b[0m \u001b[0;34m=\u001b[0m \u001b[0mself\u001b[0m\u001b[0;34m.\u001b[0m\u001b[0mf\u001b[0m\u001b[0;34m(\u001b[0m\u001b[0mv\u001b[0m\u001b[0;34m)\u001b[0m\u001b[0;34m\u001b[0m\u001b[0;34m\u001b[0m\u001b[0m\n\u001b[0m\u001b[1;32m    908\u001b[0m                 \u001b[0;32mif\u001b[0m \u001b[0misinstance\u001b[0m\u001b[0;34m(\u001b[0m\u001b[0mresults\u001b[0m\u001b[0;34m[\u001b[0m\u001b[0mi\u001b[0m\u001b[0;34m]\u001b[0m\u001b[0;34m,\u001b[0m \u001b[0mABCSeries\u001b[0m\u001b[0;34m)\u001b[0m\u001b[0;34m:\u001b[0m\u001b[0;34m\u001b[0m\u001b[0;34m\u001b[0m\u001b[0m\n\u001b[1;32m    909\u001b[0m                     \u001b[0;31m# If we have a view on v, we need to make a copy because\u001b[0m\u001b[0;34m\u001b[0m\u001b[0;34m\u001b[0m\u001b[0m\n",
            "\u001b[0;32m/usr/local/lib/python3.10/dist-packages/pandas/core/tools/numeric.py\u001b[0m in \u001b[0;36mto_numeric\u001b[0;34m(arg, errors, downcast)\u001b[0m\n\u001b[1;32m    183\u001b[0m         \u001b[0mcoerce_numeric\u001b[0m \u001b[0;34m=\u001b[0m \u001b[0merrors\u001b[0m \u001b[0;32mnot\u001b[0m \u001b[0;32min\u001b[0m \u001b[0;34m(\u001b[0m\u001b[0;34m\"ignore\"\u001b[0m\u001b[0;34m,\u001b[0m \u001b[0;34m\"raise\"\u001b[0m\u001b[0;34m)\u001b[0m\u001b[0;34m\u001b[0m\u001b[0;34m\u001b[0m\u001b[0m\n\u001b[1;32m    184\u001b[0m         \u001b[0;32mtry\u001b[0m\u001b[0;34m:\u001b[0m\u001b[0;34m\u001b[0m\u001b[0;34m\u001b[0m\u001b[0m\n\u001b[0;32m--> 185\u001b[0;31m             values, _ = lib.maybe_convert_numeric(\n\u001b[0m\u001b[1;32m    186\u001b[0m                 \u001b[0mvalues\u001b[0m\u001b[0;34m,\u001b[0m \u001b[0mset\u001b[0m\u001b[0;34m(\u001b[0m\u001b[0;34m)\u001b[0m\u001b[0;34m,\u001b[0m \u001b[0mcoerce_numeric\u001b[0m\u001b[0;34m=\u001b[0m\u001b[0mcoerce_numeric\u001b[0m\u001b[0;34m\u001b[0m\u001b[0;34m\u001b[0m\u001b[0m\n\u001b[1;32m    187\u001b[0m             )\n",
            "\u001b[0;32m/usr/local/lib/python3.10/dist-packages/pandas/_libs/lib.pyx\u001b[0m in \u001b[0;36mpandas._libs.lib.maybe_convert_numeric\u001b[0;34m()\u001b[0m\n",
            "\u001b[0;31mValueError\u001b[0m: Unable to parse string \"ID_1I1XQIKT5A9L\" at position 0"
          ]
        }
      ],
      "source": [
        "df.apply(pd.to_numeric)"
      ]
    },
    {
      "cell_type": "code",
      "source": [
        "df.fillna(0,inplace=True)"
      ],
      "metadata": {
        "id": "hzDU71ZUCoP4"
      },
      "execution_count": null,
      "outputs": []
    },
    {
      "cell_type": "code",
      "execution_count": 134,
      "metadata": {
        "id": "-k0DzYaiY1z0",
        "colab": {
          "base_uri": "https://localhost:8080/"
        },
        "outputId": "d377d030-0c47-4790-ae46-fdcbb91698c9"
      },
      "outputs": [
        {
          "output_type": "execute_result",
          "data": {
            "text/plain": [
              "region              0\n",
              "tenure              3\n",
              "Amount              0\n",
              "refill_frequency    0\n",
              "revenue             0\n",
              "arpu_segment        0\n",
              "frequency           0\n",
              "data_volume         0\n",
              "on_net              0\n",
              "Procuct_1           0\n",
              "Procuct_2           0\n",
              "zone1               0\n",
              "zone2               0\n",
              "mrg                 3\n",
              "regularity          3\n",
              "top_pack            0\n",
              "freq_top_pack       0\n",
              "Target              0\n",
              "dtype: int64"
            ]
          },
          "metadata": {},
          "execution_count": 134
        }
      ],
      "source": [
        "df.isnull().sum()"
      ]
    },
    {
      "cell_type": "code",
      "source": [
        "df.fillna(0,inplace=True)"
      ],
      "metadata": {
        "id": "5hej6bAyeEhE"
      },
      "execution_count": 135,
      "outputs": []
    },
    {
      "cell_type": "code",
      "execution_count": 174,
      "metadata": {
        "id": "qpWzS8XdY1z2"
      },
      "outputs": [],
      "source": [
        "df.to_csv('test_sample.csv', index=False)\n"
      ]
    },
    {
      "cell_type": "code",
      "execution_count": 137,
      "metadata": {
        "id": "J2ZSw0EoY1z6"
      },
      "outputs": [],
      "source": [
        "df.rename(columns = {'Target': 'target'},inplace = True)"
      ]
    },
    {
      "cell_type": "code",
      "execution_count": 138,
      "metadata": {
        "id": "Ym8COm29Y1z-"
      },
      "outputs": [],
      "source": [
        "encoded_df = df.drop('target',axis = 1)\n",
        "df_target= df[['target']]"
      ]
    },
    {
      "cell_type": "code",
      "execution_count": 139,
      "metadata": {
        "id": "1EhEAQgkY1z_"
      },
      "outputs": [],
      "source": [
        "import random\n",
        "random.seed(123)\n",
        "X_train, X_test, y_train, y_test = train_test_split(encoded_df, df_target, test_size=0.2, random_state=123)"
      ]
    },
    {
      "cell_type": "code",
      "execution_count": 140,
      "metadata": {
        "id": "7GzXrQIdY10B"
      },
      "outputs": [],
      "source": [
        "%matplotlib inline\n",
        "import warnings\n",
        "warnings.filterwarnings('ignore')\n",
        "import pandas as pd\n",
        "import numpy as np\n",
        "import matplotlib.pyplot as plt\n",
        "from matplotlib import rcParams\n",
        "from sklearn.utils import check_array, _safe_indexing, sparsefuncs_fast, check_X_y, check_random_state\n",
        "from sklearn.preprocessing import OneHotEncoder\n",
        "from scipy import sparse\n",
        "from sklearn.neighbors import NearestNeighbors\n",
        "from sklearn.base import clone\n",
        "from numbers import Integral\n",
        "from sklearn.svm import SVC\n",
        "from collections import Counter\n",
        "import seaborn as sns\n",
        "from sklearn.model_selection import train_test_split\n",
        "from imblearn.over_sampling import SMOTE, SMOTENC, SVMSMOTE\n",
        "import os\n",
        "# import missingpy as missingpy\n",
        "from pathlib import Path\n",
        "from sklearn.ensemble import RandomForestClassifier\n",
        "from sklearn.model_selection import GridSearchCV\n",
        "from sklearn.metrics import classification_report\n",
        "from sklearn.model_selection import StratifiedKFold\n",
        "import pickle\n",
        "from imblearn.pipeline import Pipeline, make_pipeline\n",
        "from sklearn.preprocessing import LabelEncoder\n",
        "from scipy import stats\n",
        "from sklearn.preprocessing import StandardScaler\n",
        "from sklearn.metrics import roc_curve, auc, precision_recall_curve, f1_score, roc_auc_score, make_scorer\n",
        "from sklearn.model_selection import cross_val_score, cross_validate"
      ]
    },
    {
      "cell_type": "code",
      "execution_count": 141,
      "metadata": {
        "id": "Rx0CXd7bY10D"
      },
      "outputs": [],
      "source": [
        "columns =['Amount','revenue','arpu_segment','data_volume','on_net','Procuct_2','zone1','zone2']\n",
        "from sklearn.preprocessing import StandardScaler\n",
        "sc = StandardScaler()\n"
      ]
    },
    {
      "cell_type": "code",
      "execution_count": 142,
      "metadata": {
        "id": "03LqwmIgY10F"
      },
      "outputs": [],
      "source": [
        "X_train = pd.DataFrame(sc.fit_transform(X_train.values), columns=X_train.columns, index=X_train.index)"
      ]
    },
    {
      "cell_type": "code",
      "execution_count": 143,
      "metadata": {
        "id": "XC24PU28Y10G"
      },
      "outputs": [],
      "source": [
        "X_test = pd.DataFrame(sc.fit_transform(X_test.values), columns=X_test.columns, index=X_test.index)"
      ]
    },
    {
      "cell_type": "code",
      "execution_count": 144,
      "metadata": {
        "id": "RagUcFbJY10I",
        "colab": {
          "base_uri": "https://localhost:8080/"
        },
        "outputId": "fb9a3247-0a9c-4985-b095-51cb9718ce6f"
      },
      "outputs": [
        {
          "output_type": "execute_result",
          "data": {
            "text/plain": [
              "(128502, 17)"
            ]
          },
          "metadata": {},
          "execution_count": 144
        }
      ],
      "source": [
        "X_train.shape"
      ]
    },
    {
      "cell_type": "code",
      "execution_count": 145,
      "metadata": {
        "id": "n2jDDXjuY10K"
      },
      "outputs": [],
      "source": [
        "from sklearn.neighbors import KNeighborsClassifier\n",
        "from sklearn.metrics import precision_score,accuracy_score,f1_score, cohen_kappa_score\n",
        "from imblearn.metrics import sensitivity_score,specificity_score\n",
        "from sklearn.linear_model import Lasso\n",
        "from sklearn.model_selection import GridSearchCV, KFold"
      ]
    },
    {
      "cell_type": "code",
      "execution_count": 146,
      "metadata": {
        "id": "PGKEJyxVY10M"
      },
      "outputs": [],
      "source": [
        "# choosing best parameters\n",
        "import random\n",
        "random.seed(123)\n",
        "params = {\"alpha\":np.arange(0.00001, 10, 500)}\n",
        "kf=KFold(n_splits=5,shuffle=True, random_state=42)"
      ]
    },
    {
      "cell_type": "code",
      "execution_count": 147,
      "metadata": {
        "id": "O6ssTsEIY10O"
      },
      "outputs": [],
      "source": [
        "## initializze the lasso model for feature selection\n",
        "lasso = Lasso()"
      ]
    },
    {
      "cell_type": "code",
      "execution_count": 148,
      "metadata": {
        "id": "c5eRxfpFY10P",
        "colab": {
          "base_uri": "https://localhost:8080/"
        },
        "outputId": "2f185331-78fc-4c84-f7b8-278f76ca1fec"
      },
      "outputs": [
        {
          "output_type": "stream",
          "name": "stdout",
          "text": [
            "Best Params {'alpha': 1e-05}\n"
          ]
        }
      ],
      "source": [
        "lasso_cv=GridSearchCV(lasso, param_grid=params, cv=kf)\n",
        "lasso_cv.fit(X_train, y_train)\n",
        "print(\"Best Params {}\".format(lasso_cv.best_params_))"
      ]
    },
    {
      "cell_type": "code",
      "execution_count": 149,
      "metadata": {
        "id": "0TVWEMuRY10Q",
        "colab": {
          "base_uri": "https://localhost:8080/",
          "height": 75
        },
        "outputId": "24c74e9f-f9e9-4ee4-9020-b16aac2bac67"
      },
      "outputs": [
        {
          "output_type": "execute_result",
          "data": {
            "text/plain": [
              "Lasso(alpha=1e-05)"
            ],
            "text/html": [
              "<style>#sk-container-id-1 {color: black;background-color: white;}#sk-container-id-1 pre{padding: 0;}#sk-container-id-1 div.sk-toggleable {background-color: white;}#sk-container-id-1 label.sk-toggleable__label {cursor: pointer;display: block;width: 100%;margin-bottom: 0;padding: 0.3em;box-sizing: border-box;text-align: center;}#sk-container-id-1 label.sk-toggleable__label-arrow:before {content: \"▸\";float: left;margin-right: 0.25em;color: #696969;}#sk-container-id-1 label.sk-toggleable__label-arrow:hover:before {color: black;}#sk-container-id-1 div.sk-estimator:hover label.sk-toggleable__label-arrow:before {color: black;}#sk-container-id-1 div.sk-toggleable__content {max-height: 0;max-width: 0;overflow: hidden;text-align: left;background-color: #f0f8ff;}#sk-container-id-1 div.sk-toggleable__content pre {margin: 0.2em;color: black;border-radius: 0.25em;background-color: #f0f8ff;}#sk-container-id-1 input.sk-toggleable__control:checked~div.sk-toggleable__content {max-height: 200px;max-width: 100%;overflow: auto;}#sk-container-id-1 input.sk-toggleable__control:checked~label.sk-toggleable__label-arrow:before {content: \"▾\";}#sk-container-id-1 div.sk-estimator input.sk-toggleable__control:checked~label.sk-toggleable__label {background-color: #d4ebff;}#sk-container-id-1 div.sk-label input.sk-toggleable__control:checked~label.sk-toggleable__label {background-color: #d4ebff;}#sk-container-id-1 input.sk-hidden--visually {border: 0;clip: rect(1px 1px 1px 1px);clip: rect(1px, 1px, 1px, 1px);height: 1px;margin: -1px;overflow: hidden;padding: 0;position: absolute;width: 1px;}#sk-container-id-1 div.sk-estimator {font-family: monospace;background-color: #f0f8ff;border: 1px dotted black;border-radius: 0.25em;box-sizing: border-box;margin-bottom: 0.5em;}#sk-container-id-1 div.sk-estimator:hover {background-color: #d4ebff;}#sk-container-id-1 div.sk-parallel-item::after {content: \"\";width: 100%;border-bottom: 1px solid gray;flex-grow: 1;}#sk-container-id-1 div.sk-label:hover label.sk-toggleable__label {background-color: #d4ebff;}#sk-container-id-1 div.sk-serial::before {content: \"\";position: absolute;border-left: 1px solid gray;box-sizing: border-box;top: 0;bottom: 0;left: 50%;z-index: 0;}#sk-container-id-1 div.sk-serial {display: flex;flex-direction: column;align-items: center;background-color: white;padding-right: 0.2em;padding-left: 0.2em;position: relative;}#sk-container-id-1 div.sk-item {position: relative;z-index: 1;}#sk-container-id-1 div.sk-parallel {display: flex;align-items: stretch;justify-content: center;background-color: white;position: relative;}#sk-container-id-1 div.sk-item::before, #sk-container-id-1 div.sk-parallel-item::before {content: \"\";position: absolute;border-left: 1px solid gray;box-sizing: border-box;top: 0;bottom: 0;left: 50%;z-index: -1;}#sk-container-id-1 div.sk-parallel-item {display: flex;flex-direction: column;z-index: 1;position: relative;background-color: white;}#sk-container-id-1 div.sk-parallel-item:first-child::after {align-self: flex-end;width: 50%;}#sk-container-id-1 div.sk-parallel-item:last-child::after {align-self: flex-start;width: 50%;}#sk-container-id-1 div.sk-parallel-item:only-child::after {width: 0;}#sk-container-id-1 div.sk-dashed-wrapped {border: 1px dashed gray;margin: 0 0.4em 0.5em 0.4em;box-sizing: border-box;padding-bottom: 0.4em;background-color: white;}#sk-container-id-1 div.sk-label label {font-family: monospace;font-weight: bold;display: inline-block;line-height: 1.2em;}#sk-container-id-1 div.sk-label-container {text-align: center;}#sk-container-id-1 div.sk-container {/* jupyter's `normalize.less` sets `[hidden] { display: none; }` but bootstrap.min.css set `[hidden] { display: none !important; }` so we also need the `!important` here to be able to override the default hidden behavior on the sphinx rendered scikit-learn.org. See: https://github.com/scikit-learn/scikit-learn/issues/21755 */display: inline-block !important;position: relative;}#sk-container-id-1 div.sk-text-repr-fallback {display: none;}</style><div id=\"sk-container-id-1\" class=\"sk-top-container\"><div class=\"sk-text-repr-fallback\"><pre>Lasso(alpha=1e-05)</pre><b>In a Jupyter environment, please rerun this cell to show the HTML representation or trust the notebook. <br />On GitHub, the HTML representation is unable to render, please try loading this page with nbviewer.org.</b></div><div class=\"sk-container\" hidden><div class=\"sk-item\"><div class=\"sk-estimator sk-toggleable\"><input class=\"sk-toggleable__control sk-hidden--visually\" id=\"sk-estimator-id-1\" type=\"checkbox\" checked><label for=\"sk-estimator-id-1\" class=\"sk-toggleable__label sk-toggleable__label-arrow\">Lasso</label><div class=\"sk-toggleable__content\"><pre>Lasso(alpha=1e-05)</pre></div></div></div></div></div>"
            ]
          },
          "metadata": {},
          "execution_count": 149
        }
      ],
      "source": [
        "# calling the model with the best parameter\n",
        "lasso1 = Lasso(alpha=0.00001)\n",
        "lasso1.fit(X_train, y_train)"
      ]
    },
    {
      "cell_type": "code",
      "execution_count": 150,
      "metadata": {
        "id": "6ebAq7bfY10T",
        "colab": {
          "base_uri": "https://localhost:8080/",
          "height": 75
        },
        "outputId": "04e60ced-346f-4ae4-c60b-d30d397c06f5"
      },
      "outputs": [
        {
          "output_type": "execute_result",
          "data": {
            "text/plain": [
              "KNeighborsClassifier()"
            ],
            "text/html": [
              "<style>#sk-container-id-2 {color: black;background-color: white;}#sk-container-id-2 pre{padding: 0;}#sk-container-id-2 div.sk-toggleable {background-color: white;}#sk-container-id-2 label.sk-toggleable__label {cursor: pointer;display: block;width: 100%;margin-bottom: 0;padding: 0.3em;box-sizing: border-box;text-align: center;}#sk-container-id-2 label.sk-toggleable__label-arrow:before {content: \"▸\";float: left;margin-right: 0.25em;color: #696969;}#sk-container-id-2 label.sk-toggleable__label-arrow:hover:before {color: black;}#sk-container-id-2 div.sk-estimator:hover label.sk-toggleable__label-arrow:before {color: black;}#sk-container-id-2 div.sk-toggleable__content {max-height: 0;max-width: 0;overflow: hidden;text-align: left;background-color: #f0f8ff;}#sk-container-id-2 div.sk-toggleable__content pre {margin: 0.2em;color: black;border-radius: 0.25em;background-color: #f0f8ff;}#sk-container-id-2 input.sk-toggleable__control:checked~div.sk-toggleable__content {max-height: 200px;max-width: 100%;overflow: auto;}#sk-container-id-2 input.sk-toggleable__control:checked~label.sk-toggleable__label-arrow:before {content: \"▾\";}#sk-container-id-2 div.sk-estimator input.sk-toggleable__control:checked~label.sk-toggleable__label {background-color: #d4ebff;}#sk-container-id-2 div.sk-label input.sk-toggleable__control:checked~label.sk-toggleable__label {background-color: #d4ebff;}#sk-container-id-2 input.sk-hidden--visually {border: 0;clip: rect(1px 1px 1px 1px);clip: rect(1px, 1px, 1px, 1px);height: 1px;margin: -1px;overflow: hidden;padding: 0;position: absolute;width: 1px;}#sk-container-id-2 div.sk-estimator {font-family: monospace;background-color: #f0f8ff;border: 1px dotted black;border-radius: 0.25em;box-sizing: border-box;margin-bottom: 0.5em;}#sk-container-id-2 div.sk-estimator:hover {background-color: #d4ebff;}#sk-container-id-2 div.sk-parallel-item::after {content: \"\";width: 100%;border-bottom: 1px solid gray;flex-grow: 1;}#sk-container-id-2 div.sk-label:hover label.sk-toggleable__label {background-color: #d4ebff;}#sk-container-id-2 div.sk-serial::before {content: \"\";position: absolute;border-left: 1px solid gray;box-sizing: border-box;top: 0;bottom: 0;left: 50%;z-index: 0;}#sk-container-id-2 div.sk-serial {display: flex;flex-direction: column;align-items: center;background-color: white;padding-right: 0.2em;padding-left: 0.2em;position: relative;}#sk-container-id-2 div.sk-item {position: relative;z-index: 1;}#sk-container-id-2 div.sk-parallel {display: flex;align-items: stretch;justify-content: center;background-color: white;position: relative;}#sk-container-id-2 div.sk-item::before, #sk-container-id-2 div.sk-parallel-item::before {content: \"\";position: absolute;border-left: 1px solid gray;box-sizing: border-box;top: 0;bottom: 0;left: 50%;z-index: -1;}#sk-container-id-2 div.sk-parallel-item {display: flex;flex-direction: column;z-index: 1;position: relative;background-color: white;}#sk-container-id-2 div.sk-parallel-item:first-child::after {align-self: flex-end;width: 50%;}#sk-container-id-2 div.sk-parallel-item:last-child::after {align-self: flex-start;width: 50%;}#sk-container-id-2 div.sk-parallel-item:only-child::after {width: 0;}#sk-container-id-2 div.sk-dashed-wrapped {border: 1px dashed gray;margin: 0 0.4em 0.5em 0.4em;box-sizing: border-box;padding-bottom: 0.4em;background-color: white;}#sk-container-id-2 div.sk-label label {font-family: monospace;font-weight: bold;display: inline-block;line-height: 1.2em;}#sk-container-id-2 div.sk-label-container {text-align: center;}#sk-container-id-2 div.sk-container {/* jupyter's `normalize.less` sets `[hidden] { display: none; }` but bootstrap.min.css set `[hidden] { display: none !important; }` so we also need the `!important` here to be able to override the default hidden behavior on the sphinx rendered scikit-learn.org. See: https://github.com/scikit-learn/scikit-learn/issues/21755 */display: inline-block !important;position: relative;}#sk-container-id-2 div.sk-text-repr-fallback {display: none;}</style><div id=\"sk-container-id-2\" class=\"sk-top-container\"><div class=\"sk-text-repr-fallback\"><pre>KNeighborsClassifier()</pre><b>In a Jupyter environment, please rerun this cell to show the HTML representation or trust the notebook. <br />On GitHub, the HTML representation is unable to render, please try loading this page with nbviewer.org.</b></div><div class=\"sk-container\" hidden><div class=\"sk-item\"><div class=\"sk-estimator sk-toggleable\"><input class=\"sk-toggleable__control sk-hidden--visually\" id=\"sk-estimator-id-2\" type=\"checkbox\" checked><label for=\"sk-estimator-id-2\" class=\"sk-toggleable__label sk-toggleable__label-arrow\">KNeighborsClassifier</label><div class=\"sk-toggleable__content\"><pre>KNeighborsClassifier()</pre></div></div></div></div></div>"
            ]
          },
          "metadata": {},
          "execution_count": 150
        }
      ],
      "source": [
        "knn_model = KNeighborsClassifier(n_neighbors=5)\n",
        "knn_model.fit(X_train ,y_train)"
      ]
    },
    {
      "cell_type": "code",
      "execution_count": 151,
      "metadata": {
        "id": "Xkxm-nNLY10V"
      },
      "outputs": [],
      "source": [
        "knn_pred = knn_model.predict(X_test)"
      ]
    },
    {
      "cell_type": "code",
      "execution_count": 152,
      "metadata": {
        "id": "V3HhDof5Y10W"
      },
      "outputs": [],
      "source": [
        "PRESC = precision_score(y_test, knn_pred)\n",
        "ACC = accuracy_score(y_test, knn_pred)\n",
        "F1 = f1_score(y_test, knn_pred)\n",
        "KAPPA = cohen_kappa_score(y_test, knn_pred)\n",
        "AUC = roc_auc_score(y_test, knn_pred)\n",
        "SNS = sensitivity_score(y_test, knn_pred)\n",
        "SPS = specificity_score(y_test, knn_pred)"
      ]
    },
    {
      "cell_type": "code",
      "execution_count": 153,
      "metadata": {
        "id": "m7EwiQc4Y10X",
        "colab": {
          "base_uri": "https://localhost:8080/"
        },
        "outputId": "3e7d612d-aae2-4fe5-aec1-ab6675887e4d"
      },
      "outputs": [
        {
          "output_type": "stream",
          "name": "stdout",
          "text": [
            "PRECISION for SMOTE_ENC 5% :  0.9129961731822616\n",
            "ACCURACY for SMPTE_ENC 5% :  0.8892797111373965\n",
            "F1 for SMOTE_ENC 5% :  0.931893465065962\n",
            "KAPPA for SMOTE_ENC 5% :  0.6367689053724557\n",
            "AUC for SMOTE_ENC 5% :  0.7988529248701107\n",
            "SENSITIVITY SMOTE_ENC 5% :  0.9515895671215735\n",
            "SPECIFICITY for SMOTE_ENC 5% :  0.646116282618648\n"
          ]
        }
      ],
      "source": [
        "print(\"PRECISION for SMOTE_ENC 5% : \", PRESC)\n",
        "print(\"ACCURACY for SMPTE_ENC 5% : \", ACC)\n",
        "print(\"F1 for SMOTE_ENC 5% : \", F1)\n",
        "print(\"KAPPA for SMOTE_ENC 5% : \", KAPPA)\n",
        "print(\"AUC for SMOTE_ENC 5% : \", AUC)\n",
        "print(\"SENSITIVITY SMOTE_ENC 5% : \", SNS)\n",
        "print(\"SPECIFICITY for SMOTE_ENC 5% : \", SPS)"
      ]
    },
    {
      "cell_type": "markdown",
      "metadata": {
        "id": "h9RQNV4EY10Z"
      },
      "source": [
        "model training"
      ]
    },
    {
      "cell_type": "code",
      "execution_count": 155,
      "metadata": {
        "id": "GkjaEQZEY10b",
        "colab": {
          "base_uri": "https://localhost:8080/",
          "height": 75
        },
        "outputId": "b3f5d211-257b-4ba4-8613-00a2a1df4502"
      },
      "outputs": [
        {
          "output_type": "execute_result",
          "data": {
            "text/plain": [
              "SVC(kernel='linear')"
            ],
            "text/html": [
              "<style>#sk-container-id-3 {color: black;background-color: white;}#sk-container-id-3 pre{padding: 0;}#sk-container-id-3 div.sk-toggleable {background-color: white;}#sk-container-id-3 label.sk-toggleable__label {cursor: pointer;display: block;width: 100%;margin-bottom: 0;padding: 0.3em;box-sizing: border-box;text-align: center;}#sk-container-id-3 label.sk-toggleable__label-arrow:before {content: \"▸\";float: left;margin-right: 0.25em;color: #696969;}#sk-container-id-3 label.sk-toggleable__label-arrow:hover:before {color: black;}#sk-container-id-3 div.sk-estimator:hover label.sk-toggleable__label-arrow:before {color: black;}#sk-container-id-3 div.sk-toggleable__content {max-height: 0;max-width: 0;overflow: hidden;text-align: left;background-color: #f0f8ff;}#sk-container-id-3 div.sk-toggleable__content pre {margin: 0.2em;color: black;border-radius: 0.25em;background-color: #f0f8ff;}#sk-container-id-3 input.sk-toggleable__control:checked~div.sk-toggleable__content {max-height: 200px;max-width: 100%;overflow: auto;}#sk-container-id-3 input.sk-toggleable__control:checked~label.sk-toggleable__label-arrow:before {content: \"▾\";}#sk-container-id-3 div.sk-estimator input.sk-toggleable__control:checked~label.sk-toggleable__label {background-color: #d4ebff;}#sk-container-id-3 div.sk-label input.sk-toggleable__control:checked~label.sk-toggleable__label {background-color: #d4ebff;}#sk-container-id-3 input.sk-hidden--visually {border: 0;clip: rect(1px 1px 1px 1px);clip: rect(1px, 1px, 1px, 1px);height: 1px;margin: -1px;overflow: hidden;padding: 0;position: absolute;width: 1px;}#sk-container-id-3 div.sk-estimator {font-family: monospace;background-color: #f0f8ff;border: 1px dotted black;border-radius: 0.25em;box-sizing: border-box;margin-bottom: 0.5em;}#sk-container-id-3 div.sk-estimator:hover {background-color: #d4ebff;}#sk-container-id-3 div.sk-parallel-item::after {content: \"\";width: 100%;border-bottom: 1px solid gray;flex-grow: 1;}#sk-container-id-3 div.sk-label:hover label.sk-toggleable__label {background-color: #d4ebff;}#sk-container-id-3 div.sk-serial::before {content: \"\";position: absolute;border-left: 1px solid gray;box-sizing: border-box;top: 0;bottom: 0;left: 50%;z-index: 0;}#sk-container-id-3 div.sk-serial {display: flex;flex-direction: column;align-items: center;background-color: white;padding-right: 0.2em;padding-left: 0.2em;position: relative;}#sk-container-id-3 div.sk-item {position: relative;z-index: 1;}#sk-container-id-3 div.sk-parallel {display: flex;align-items: stretch;justify-content: center;background-color: white;position: relative;}#sk-container-id-3 div.sk-item::before, #sk-container-id-3 div.sk-parallel-item::before {content: \"\";position: absolute;border-left: 1px solid gray;box-sizing: border-box;top: 0;bottom: 0;left: 50%;z-index: -1;}#sk-container-id-3 div.sk-parallel-item {display: flex;flex-direction: column;z-index: 1;position: relative;background-color: white;}#sk-container-id-3 div.sk-parallel-item:first-child::after {align-self: flex-end;width: 50%;}#sk-container-id-3 div.sk-parallel-item:last-child::after {align-self: flex-start;width: 50%;}#sk-container-id-3 div.sk-parallel-item:only-child::after {width: 0;}#sk-container-id-3 div.sk-dashed-wrapped {border: 1px dashed gray;margin: 0 0.4em 0.5em 0.4em;box-sizing: border-box;padding-bottom: 0.4em;background-color: white;}#sk-container-id-3 div.sk-label label {font-family: monospace;font-weight: bold;display: inline-block;line-height: 1.2em;}#sk-container-id-3 div.sk-label-container {text-align: center;}#sk-container-id-3 div.sk-container {/* jupyter's `normalize.less` sets `[hidden] { display: none; }` but bootstrap.min.css set `[hidden] { display: none !important; }` so we also need the `!important` here to be able to override the default hidden behavior on the sphinx rendered scikit-learn.org. See: https://github.com/scikit-learn/scikit-learn/issues/21755 */display: inline-block !important;position: relative;}#sk-container-id-3 div.sk-text-repr-fallback {display: none;}</style><div id=\"sk-container-id-3\" class=\"sk-top-container\"><div class=\"sk-text-repr-fallback\"><pre>SVC(kernel=&#x27;linear&#x27;)</pre><b>In a Jupyter environment, please rerun this cell to show the HTML representation or trust the notebook. <br />On GitHub, the HTML representation is unable to render, please try loading this page with nbviewer.org.</b></div><div class=\"sk-container\" hidden><div class=\"sk-item\"><div class=\"sk-estimator sk-toggleable\"><input class=\"sk-toggleable__control sk-hidden--visually\" id=\"sk-estimator-id-3\" type=\"checkbox\" checked><label for=\"sk-estimator-id-3\" class=\"sk-toggleable__label sk-toggleable__label-arrow\">SVC</label><div class=\"sk-toggleable__content\"><pre>SVC(kernel=&#x27;linear&#x27;)</pre></div></div></div></div></div>"
            ]
          },
          "metadata": {},
          "execution_count": 155
        }
      ],
      "source": [
        "classifier = svm.SVC(kernel='linear')\n",
        "#training the support vector Machine Classifier\n",
        "classifier.fit(X_train, y_train)"
      ]
    },
    {
      "cell_type": "code",
      "execution_count": 156,
      "metadata": {
        "id": "U7ctq_e9Y10e"
      },
      "outputs": [],
      "source": [
        "# accuracy score on the training data\n",
        "X_train_prediction = classifier.predict(X_train)\n",
        "training_data_accuracy = accuracy_score(X_train_prediction, y_train)"
      ]
    },
    {
      "cell_type": "code",
      "execution_count": 157,
      "metadata": {
        "id": "607ytaYeY10i",
        "colab": {
          "base_uri": "https://localhost:8080/"
        },
        "outputId": "8207b562-aac3-469d-c5c8-3c9fef0d6e6f"
      },
      "outputs": [
        {
          "output_type": "stream",
          "name": "stdout",
          "text": [
            "Accuracy score of the training data :  0.8882585485050817\n"
          ]
        }
      ],
      "source": [
        "print('Accuracy score of the training data : ', training_data_accuracy)"
      ]
    },
    {
      "cell_type": "code",
      "execution_count": 158,
      "metadata": {
        "id": "jSTbQ32jY10j"
      },
      "outputs": [],
      "source": [
        "# accuracy score on the test data\n",
        "X_test_prediction = classifier.predict(X_test)\n",
        "test_data_accuracy = accuracy_score(X_test_prediction, y_test)"
      ]
    },
    {
      "cell_type": "code",
      "execution_count": 159,
      "metadata": {
        "id": "lRNmGveXY10l",
        "colab": {
          "base_uri": "https://localhost:8080/"
        },
        "outputId": "f72edc50-37a1-45fc-d8e3-3e9386d5646b"
      },
      "outputs": [
        {
          "output_type": "stream",
          "name": "stdout",
          "text": [
            "Accuracy score of the test data :  0.8860735852580465\n"
          ]
        }
      ],
      "source": [
        "print('Accuracy score of the test data : ', test_data_accuracy)"
      ]
    },
    {
      "cell_type": "code",
      "source": [
        "import pickle\n",
        "filename = 'sasolTest.sav'\n",
        "pickle.dump(classifier, open(filename, 'wb'))"
      ],
      "metadata": {
        "id": "Vwo2FyhjHDZz"
      },
      "execution_count": 160,
      "outputs": []
    },
    {
      "cell_type": "code",
      "source": [
        "# loading the saved model\n",
        "loaded_model = pickle.load(open('sasol.sav', 'rb'))"
      ],
      "metadata": {
        "id": "mc9FRCC0ItT-"
      },
      "execution_count": 178,
      "outputs": []
    },
    {
      "cell_type": "code",
      "source": [
        "for column in df.columns:\n",
        "  print(column)"
      ],
      "metadata": {
        "colab": {
          "base_uri": "https://localhost:8080/"
        },
        "id": "DQLyHRyZNRh0",
        "outputId": "3eac20ed-7c82-42cc-818f-6d2e92e8855e"
      },
      "execution_count": 179,
      "outputs": [
        {
          "output_type": "stream",
          "name": "stdout",
          "text": [
            "ID\n",
            "region\n",
            "tenure\n",
            "Amount\n",
            "refill_frequency\n",
            "revenue\n",
            "arpu_segment\n",
            "frequency\n",
            "data_volume\n",
            "on_net\n",
            "Procuct_1\n",
            "Procuct_2\n",
            "zone1\n",
            "zone2\n",
            "mrg\n",
            "regularity\n",
            "top_pack\n",
            "freq_top_pack\n"
          ]
        }
      ]
    },
    {
      "cell_type": "code",
      "source": [
        "import numpy as np\n",
        "import pandas as pd\n",
        "\n",
        "# Load the CSV file\n",
        "data = pd.read_csv('test_sample.csv')\n",
        "\n",
        "# Define the columns to pick\n",
        "columns_to_pick = ['region', 'tenure', 'Amount', 'refill_frequency',\n",
        "                   'revenue','arpu_segment','frequency','data_volume','on_net','Procuct_1','Procuct_2',\n",
        "                   'zone1','zone2','mrg','regularity','top_pack','freq_top_pack']\n",
        "\n",
        "# Iterate through the rows and make predictions\n",
        "predictions = []\n",
        "for index, row in data.iterrows():\n",
        "    input_data = row[columns_to_pick].values\n",
        "    input_data_reshaped = np.reshape(input_data, (1, -1))\n",
        "    prediction = loaded_model.predict(input_data_reshaped)\n",
        "    predictions.append(prediction[0])\n",
        "\n",
        "# Add the predicted results as a new column in the dataframe\n",
        "data['Target'] = predictions\n",
        "\n",
        "# Save the modified dataframe to a new CSV file\n",
        "data.to_csv('sasol_output_file.csv', index=False)"
      ],
      "metadata": {
        "id": "9UicaAocHDAz"
      },
      "execution_count": 180,
      "outputs": []
    }
  ],
  "metadata": {
    "kernelspec": {
      "display_name": "Python 3",
      "name": "python3"
    },
    "language_info": {
      "codemirror_mode": {
        "name": "ipython",
        "version": 3
      },
      "file_extension": ".py",
      "mimetype": "text/x-python",
      "name": "python",
      "nbconvert_exporter": "python",
      "pygments_lexer": "ipython3",
      "version": "3.10.5"
    },
    "colab": {
      "provenance": [],
      "include_colab_link": true
    },
    "accelerator": "TPU"
  },
  "nbformat": 4,
  "nbformat_minor": 0
}